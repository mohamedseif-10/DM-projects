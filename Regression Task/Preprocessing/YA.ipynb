{
 "cells": [
  {
   "cell_type": "code",
   "execution_count": 1,
   "metadata": {},
   "outputs": [],
   "source": [
    "import pandas as pd\n",
    "import numpy as np\n",
    "import matplotlib.pyplot as plt\n",
    "import seaborn as sns\n",
    "import plotly.graph_objects as go"
   ]
  },
  {
   "cell_type": "markdown",
   "metadata": {},
   "source": [
    "* ## Read the data"
   ]
  },
  {
   "cell_type": "code",
   "execution_count": 2,
   "metadata": {},
   "outputs": [
    {
     "data": {
      "text/html": [
       "<div>\n",
       "<style scoped>\n",
       "    .dataframe tbody tr th:only-of-type {\n",
       "        vertical-align: middle;\n",
       "    }\n",
       "\n",
       "    .dataframe tbody tr th {\n",
       "        vertical-align: top;\n",
       "    }\n",
       "\n",
       "    .dataframe thead th {\n",
       "        text-align: right;\n",
       "    }\n",
       "</style>\n",
       "<table border=\"1\" class=\"dataframe\">\n",
       "  <thead>\n",
       "    <tr style=\"text-align: right;\">\n",
       "      <th></th>\n",
       "      <th>Name</th>\n",
       "      <th>Price</th>\n",
       "      <th>Color</th>\n",
       "      <th>Mileage</th>\n",
       "      <th>Make</th>\n",
       "      <th>Model</th>\n",
       "      <th>City</th>\n",
       "      <th>Date Displayed</th>\n",
       "      <th>Automatic Transmission</th>\n",
       "      <th>Air Conditioner</th>\n",
       "      <th>Power Steering</th>\n",
       "      <th>Remote Control</th>\n",
       "      <th>Item URL</th>\n",
       "    </tr>\n",
       "  </thead>\n",
       "  <tbody>\n",
       "    <tr>\n",
       "      <th>0</th>\n",
       "      <td>Kia Sportage 2024</td>\n",
       "      <td>2,800,000 EGP</td>\n",
       "      <td>Dark grey</td>\n",
       "      <td>300 Km</td>\n",
       "      <td>Kia</td>\n",
       "      <td>Sportage</td>\n",
       "      <td>Tagamo3 - New Cairo</td>\n",
       "      <td>2024-02-16</td>\n",
       "      <td>Yes</td>\n",
       "      <td>Yes</td>\n",
       "      <td>Yes</td>\n",
       "      <td>Yes</td>\n",
       "      <td>https://eg.hatla2ee.com/en/car/kia/sportage/62...</td>\n",
       "    </tr>\n",
       "    <tr>\n",
       "      <th>1</th>\n",
       "      <td>Chery Arrizo 5 2022</td>\n",
       "      <td>NaN</td>\n",
       "      <td>Bronze</td>\n",
       "      <td>86,000 Km</td>\n",
       "      <td>Chery</td>\n",
       "      <td>Arrizo 5</td>\n",
       "      <td>Nasr city</td>\n",
       "      <td>2024-02-16</td>\n",
       "      <td>Yes</td>\n",
       "      <td>Yes</td>\n",
       "      <td>Yes</td>\n",
       "      <td>Yes</td>\n",
       "      <td>https://eg.hatla2ee.com/en/car/chery/Arrizo-5/...</td>\n",
       "    </tr>\n",
       "    <tr>\n",
       "      <th>2</th>\n",
       "      <td>Fiat Tipo 2021</td>\n",
       "      <td>1,200,000 EGP</td>\n",
       "      <td>Petroleum</td>\n",
       "      <td>131,000 Km</td>\n",
       "      <td>Fiat</td>\n",
       "      <td>Tipo</td>\n",
       "      <td>Kafr el-Dawwar</td>\n",
       "      <td>2024-02-16</td>\n",
       "      <td>Yes</td>\n",
       "      <td>Yes</td>\n",
       "      <td>Yes</td>\n",
       "      <td>Yes</td>\n",
       "      <td>https://eg.hatla2ee.com/en/car/fiat/tipo/6286701</td>\n",
       "    </tr>\n",
       "    <tr>\n",
       "      <th>3</th>\n",
       "      <td>Hyundai Tucson Turbo GDI 2021</td>\n",
       "      <td>2,050,000 EGP</td>\n",
       "      <td>Black</td>\n",
       "      <td>125,000 Km</td>\n",
       "      <td>Hyundai</td>\n",
       "      <td>Tucson Turbo GDI</td>\n",
       "      <td>Nasr city</td>\n",
       "      <td>2024-02-16</td>\n",
       "      <td>Yes</td>\n",
       "      <td>Yes</td>\n",
       "      <td>Yes</td>\n",
       "      <td>Yes</td>\n",
       "      <td>https://eg.hatla2ee.com/en/car/hyundai/Tucson-...</td>\n",
       "    </tr>\n",
       "    <tr>\n",
       "      <th>4</th>\n",
       "      <td>BMW X1 2018</td>\n",
       "      <td>2,050,000 EGP</td>\n",
       "      <td>Gray</td>\n",
       "      <td>84,000 Km</td>\n",
       "      <td>BMW</td>\n",
       "      <td>X1</td>\n",
       "      <td>Cairo</td>\n",
       "      <td>2024-02-16</td>\n",
       "      <td>Yes</td>\n",
       "      <td>Yes</td>\n",
       "      <td>Yes</td>\n",
       "      <td>Yes</td>\n",
       "      <td>https://eg.hatla2ee.com/en/car/bmw/x1/6254123</td>\n",
       "    </tr>\n",
       "    <tr>\n",
       "      <th>...</th>\n",
       "      <td>...</td>\n",
       "      <td>...</td>\n",
       "      <td>...</td>\n",
       "      <td>...</td>\n",
       "      <td>...</td>\n",
       "      <td>...</td>\n",
       "      <td>...</td>\n",
       "      <td>...</td>\n",
       "      <td>...</td>\n",
       "      <td>...</td>\n",
       "      <td>...</td>\n",
       "      <td>...</td>\n",
       "      <td>...</td>\n",
       "    </tr>\n",
       "    <tr>\n",
       "      <th>33554</th>\n",
       "      <td>Jac J3 2021</td>\n",
       "      <td>900,000 EGP</td>\n",
       "      <td>White</td>\n",
       "      <td>240,000 Km</td>\n",
       "      <td>Jac</td>\n",
       "      <td>J3</td>\n",
       "      <td>6 October</td>\n",
       "      <td>2024-02-16</td>\n",
       "      <td>Yes</td>\n",
       "      <td>No</td>\n",
       "      <td>No</td>\n",
       "      <td>No</td>\n",
       "      <td>https://eg.hatla2ee.com/en/car/jac/j3/6286737</td>\n",
       "    </tr>\n",
       "    <tr>\n",
       "      <th>33555</th>\n",
       "      <td>Skoda Kodiaq 2023</td>\n",
       "      <td>3,000,000 EGP</td>\n",
       "      <td>Dark grey</td>\n",
       "      <td>NaN</td>\n",
       "      <td>Skoda</td>\n",
       "      <td>Kodiaq</td>\n",
       "      <td>Tagamo3 - New Cairo</td>\n",
       "      <td>2024-02-16</td>\n",
       "      <td>Yes</td>\n",
       "      <td>Yes</td>\n",
       "      <td>Yes</td>\n",
       "      <td>Yes</td>\n",
       "      <td>https://eg.hatla2ee.com/en/car/skoda/kodiaq/62...</td>\n",
       "    </tr>\n",
       "    <tr>\n",
       "      <th>33556</th>\n",
       "      <td>MG 5 2022</td>\n",
       "      <td>1,170,000 EGP</td>\n",
       "      <td>Black</td>\n",
       "      <td>48,000 Km</td>\n",
       "      <td>MG</td>\n",
       "      <td>5</td>\n",
       "      <td>Kafr el-Dawwar</td>\n",
       "      <td>2024-02-16</td>\n",
       "      <td>Yes</td>\n",
       "      <td>Yes</td>\n",
       "      <td>Yes</td>\n",
       "      <td>Yes</td>\n",
       "      <td>https://eg.hatla2ee.com/en/car/moris-garage/mg...</td>\n",
       "    </tr>\n",
       "    <tr>\n",
       "      <th>33557</th>\n",
       "      <td>Hyundai Verna 2010</td>\n",
       "      <td>285,000 EGP</td>\n",
       "      <td>White</td>\n",
       "      <td>175,000 Km</td>\n",
       "      <td>Hyundai</td>\n",
       "      <td>Verna</td>\n",
       "      <td>Alexandria</td>\n",
       "      <td>2024-02-16</td>\n",
       "      <td>No</td>\n",
       "      <td>No</td>\n",
       "      <td>Yes</td>\n",
       "      <td>Yes</td>\n",
       "      <td>https://eg.hatla2ee.com/en/car/hyundai/verna/6...</td>\n",
       "    </tr>\n",
       "    <tr>\n",
       "      <th>33558</th>\n",
       "      <td>Chevrolet Lanos 2011</td>\n",
       "      <td>NaN</td>\n",
       "      <td>Dark red</td>\n",
       "      <td>NaN</td>\n",
       "      <td>Chevrolet</td>\n",
       "      <td>Lanos</td>\n",
       "      <td>Alexandria</td>\n",
       "      <td>2024-02-16</td>\n",
       "      <td>No</td>\n",
       "      <td>No</td>\n",
       "      <td>No</td>\n",
       "      <td>No</td>\n",
       "      <td>https://eg.hatla2ee.com/en/car/chevrolet/lanos...</td>\n",
       "    </tr>\n",
       "  </tbody>\n",
       "</table>\n",
       "<p>33559 rows × 13 columns</p>\n",
       "</div>"
      ],
      "text/plain": [
       "                                Name          Price      Color     Mileage  \\\n",
       "0                  Kia Sportage 2024  2,800,000 EGP  Dark grey      300 Km   \n",
       "1                Chery Arrizo 5 2022            NaN     Bronze   86,000 Km   \n",
       "2                     Fiat Tipo 2021  1,200,000 EGP  Petroleum  131,000 Km   \n",
       "3      Hyundai Tucson Turbo GDI 2021  2,050,000 EGP      Black  125,000 Km   \n",
       "4                        BMW X1 2018  2,050,000 EGP       Gray   84,000 Km   \n",
       "...                              ...            ...        ...         ...   \n",
       "33554                    Jac J3 2021    900,000 EGP      White  240,000 Km   \n",
       "33555              Skoda Kodiaq 2023  3,000,000 EGP  Dark grey         NaN   \n",
       "33556                      MG 5 2022  1,170,000 EGP      Black   48,000 Km   \n",
       "33557             Hyundai Verna 2010    285,000 EGP      White  175,000 Km   \n",
       "33558           Chevrolet Lanos 2011            NaN   Dark red         NaN   \n",
       "\n",
       "            Make             Model                 City Date Displayed  \\\n",
       "0            Kia          Sportage  Tagamo3 - New Cairo     2024-02-16   \n",
       "1          Chery          Arrizo 5            Nasr city     2024-02-16   \n",
       "2           Fiat              Tipo       Kafr el-Dawwar     2024-02-16   \n",
       "3        Hyundai  Tucson Turbo GDI            Nasr city     2024-02-16   \n",
       "4            BMW                X1                Cairo     2024-02-16   \n",
       "...          ...               ...                  ...            ...   \n",
       "33554        Jac                J3            6 October     2024-02-16   \n",
       "33555      Skoda            Kodiaq  Tagamo3 - New Cairo     2024-02-16   \n",
       "33556         MG                 5       Kafr el-Dawwar     2024-02-16   \n",
       "33557    Hyundai             Verna           Alexandria     2024-02-16   \n",
       "33558  Chevrolet             Lanos           Alexandria     2024-02-16   \n",
       "\n",
       "      Automatic Transmission Air Conditioner Power Steering Remote Control  \\\n",
       "0                        Yes             Yes            Yes            Yes   \n",
       "1                        Yes             Yes            Yes            Yes   \n",
       "2                        Yes             Yes            Yes            Yes   \n",
       "3                        Yes             Yes            Yes            Yes   \n",
       "4                        Yes             Yes            Yes            Yes   \n",
       "...                      ...             ...            ...            ...   \n",
       "33554                    Yes              No             No             No   \n",
       "33555                    Yes             Yes            Yes            Yes   \n",
       "33556                    Yes             Yes            Yes            Yes   \n",
       "33557                     No              No            Yes            Yes   \n",
       "33558                     No              No             No             No   \n",
       "\n",
       "                                                Item URL  \n",
       "0      https://eg.hatla2ee.com/en/car/kia/sportage/62...  \n",
       "1      https://eg.hatla2ee.com/en/car/chery/Arrizo-5/...  \n",
       "2       https://eg.hatla2ee.com/en/car/fiat/tipo/6286701  \n",
       "3      https://eg.hatla2ee.com/en/car/hyundai/Tucson-...  \n",
       "4          https://eg.hatla2ee.com/en/car/bmw/x1/6254123  \n",
       "...                                                  ...  \n",
       "33554      https://eg.hatla2ee.com/en/car/jac/j3/6286737  \n",
       "33555  https://eg.hatla2ee.com/en/car/skoda/kodiaq/62...  \n",
       "33556  https://eg.hatla2ee.com/en/car/moris-garage/mg...  \n",
       "33557  https://eg.hatla2ee.com/en/car/hyundai/verna/6...  \n",
       "33558  https://eg.hatla2ee.com/en/car/chevrolet/lanos...  \n",
       "\n",
       "[33559 rows x 13 columns]"
      ]
     },
     "execution_count": 2,
     "metadata": {},
     "output_type": "execute_result"
    }
   ],
   "source": [
    "df = pd.read_csv(\"../Data/hatla2ee_scraped_data.csv\", encoding = \"UTF-8\")\n",
    "df"
   ]
  },
  {
   "cell_type": "code",
   "execution_count": 3,
   "metadata": {},
   "outputs": [
    {
     "data": {
      "text/html": [
       "<div>\n",
       "<style scoped>\n",
       "    .dataframe tbody tr th:only-of-type {\n",
       "        vertical-align: middle;\n",
       "    }\n",
       "\n",
       "    .dataframe tbody tr th {\n",
       "        vertical-align: top;\n",
       "    }\n",
       "\n",
       "    .dataframe thead th {\n",
       "        text-align: right;\n",
       "    }\n",
       "</style>\n",
       "<table border=\"1\" class=\"dataframe\">\n",
       "  <thead>\n",
       "    <tr style=\"text-align: right;\">\n",
       "      <th></th>\n",
       "      <th>Name</th>\n",
       "      <th>Price</th>\n",
       "      <th>Color</th>\n",
       "      <th>Mileage</th>\n",
       "      <th>Make</th>\n",
       "      <th>Model</th>\n",
       "      <th>City</th>\n",
       "      <th>Date Displayed</th>\n",
       "      <th>Automatic Transmission</th>\n",
       "      <th>Air Conditioner</th>\n",
       "      <th>Power Steering</th>\n",
       "      <th>Remote Control</th>\n",
       "      <th>Item URL</th>\n",
       "    </tr>\n",
       "  </thead>\n",
       "  <tbody>\n",
       "    <tr>\n",
       "      <th>0</th>\n",
       "      <td>Kia Sportage 2024</td>\n",
       "      <td>2,800,000 EGP</td>\n",
       "      <td>Dark grey</td>\n",
       "      <td>300 Km</td>\n",
       "      <td>Kia</td>\n",
       "      <td>Sportage</td>\n",
       "      <td>Tagamo3 - New Cairo</td>\n",
       "      <td>2024-02-16</td>\n",
       "      <td>Yes</td>\n",
       "      <td>Yes</td>\n",
       "      <td>Yes</td>\n",
       "      <td>Yes</td>\n",
       "      <td>https://eg.hatla2ee.com/en/car/kia/sportage/62...</td>\n",
       "    </tr>\n",
       "    <tr>\n",
       "      <th>1</th>\n",
       "      <td>Chery Arrizo 5 2022</td>\n",
       "      <td>NaN</td>\n",
       "      <td>Bronze</td>\n",
       "      <td>86,000 Km</td>\n",
       "      <td>Chery</td>\n",
       "      <td>Arrizo 5</td>\n",
       "      <td>Nasr city</td>\n",
       "      <td>2024-02-16</td>\n",
       "      <td>Yes</td>\n",
       "      <td>Yes</td>\n",
       "      <td>Yes</td>\n",
       "      <td>Yes</td>\n",
       "      <td>https://eg.hatla2ee.com/en/car/chery/Arrizo-5/...</td>\n",
       "    </tr>\n",
       "    <tr>\n",
       "      <th>2</th>\n",
       "      <td>Fiat Tipo 2021</td>\n",
       "      <td>1,200,000 EGP</td>\n",
       "      <td>Petroleum</td>\n",
       "      <td>131,000 Km</td>\n",
       "      <td>Fiat</td>\n",
       "      <td>Tipo</td>\n",
       "      <td>Kafr el-Dawwar</td>\n",
       "      <td>2024-02-16</td>\n",
       "      <td>Yes</td>\n",
       "      <td>Yes</td>\n",
       "      <td>Yes</td>\n",
       "      <td>Yes</td>\n",
       "      <td>https://eg.hatla2ee.com/en/car/fiat/tipo/6286701</td>\n",
       "    </tr>\n",
       "    <tr>\n",
       "      <th>3</th>\n",
       "      <td>Hyundai Tucson Turbo GDI 2021</td>\n",
       "      <td>2,050,000 EGP</td>\n",
       "      <td>Black</td>\n",
       "      <td>125,000 Km</td>\n",
       "      <td>Hyundai</td>\n",
       "      <td>Tucson Turbo GDI</td>\n",
       "      <td>Nasr city</td>\n",
       "      <td>2024-02-16</td>\n",
       "      <td>Yes</td>\n",
       "      <td>Yes</td>\n",
       "      <td>Yes</td>\n",
       "      <td>Yes</td>\n",
       "      <td>https://eg.hatla2ee.com/en/car/hyundai/Tucson-...</td>\n",
       "    </tr>\n",
       "    <tr>\n",
       "      <th>4</th>\n",
       "      <td>BMW X1 2018</td>\n",
       "      <td>2,050,000 EGP</td>\n",
       "      <td>Gray</td>\n",
       "      <td>84,000 Km</td>\n",
       "      <td>BMW</td>\n",
       "      <td>X1</td>\n",
       "      <td>Cairo</td>\n",
       "      <td>2024-02-16</td>\n",
       "      <td>Yes</td>\n",
       "      <td>Yes</td>\n",
       "      <td>Yes</td>\n",
       "      <td>Yes</td>\n",
       "      <td>https://eg.hatla2ee.com/en/car/bmw/x1/6254123</td>\n",
       "    </tr>\n",
       "  </tbody>\n",
       "</table>\n",
       "</div>"
      ],
      "text/plain": [
       "                            Name          Price      Color     Mileage  \\\n",
       "0              Kia Sportage 2024  2,800,000 EGP  Dark grey      300 Km   \n",
       "1            Chery Arrizo 5 2022            NaN     Bronze   86,000 Km   \n",
       "2                 Fiat Tipo 2021  1,200,000 EGP  Petroleum  131,000 Km   \n",
       "3  Hyundai Tucson Turbo GDI 2021  2,050,000 EGP      Black  125,000 Km   \n",
       "4                    BMW X1 2018  2,050,000 EGP       Gray   84,000 Km   \n",
       "\n",
       "      Make             Model                 City Date Displayed  \\\n",
       "0      Kia          Sportage  Tagamo3 - New Cairo     2024-02-16   \n",
       "1    Chery          Arrizo 5            Nasr city     2024-02-16   \n",
       "2     Fiat              Tipo       Kafr el-Dawwar     2024-02-16   \n",
       "3  Hyundai  Tucson Turbo GDI            Nasr city     2024-02-16   \n",
       "4      BMW                X1                Cairo     2024-02-16   \n",
       "\n",
       "  Automatic Transmission Air Conditioner Power Steering Remote Control  \\\n",
       "0                    Yes             Yes            Yes            Yes   \n",
       "1                    Yes             Yes            Yes            Yes   \n",
       "2                    Yes             Yes            Yes            Yes   \n",
       "3                    Yes             Yes            Yes            Yes   \n",
       "4                    Yes             Yes            Yes            Yes   \n",
       "\n",
       "                                            Item URL  \n",
       "0  https://eg.hatla2ee.com/en/car/kia/sportage/62...  \n",
       "1  https://eg.hatla2ee.com/en/car/chery/Arrizo-5/...  \n",
       "2   https://eg.hatla2ee.com/en/car/fiat/tipo/6286701  \n",
       "3  https://eg.hatla2ee.com/en/car/hyundai/Tucson-...  \n",
       "4      https://eg.hatla2ee.com/en/car/bmw/x1/6254123  "
      ]
     },
     "execution_count": 3,
     "metadata": {},
     "output_type": "execute_result"
    }
   ],
   "source": [
    "data = df.copy()\n",
    "data.head()"
   ]
  },
  {
   "cell_type": "code",
   "execution_count": 4,
   "metadata": {},
   "outputs": [
    {
     "data": {
      "text/html": [
       "<div>\n",
       "<style scoped>\n",
       "    .dataframe tbody tr th:only-of-type {\n",
       "        vertical-align: middle;\n",
       "    }\n",
       "\n",
       "    .dataframe tbody tr th {\n",
       "        vertical-align: top;\n",
       "    }\n",
       "\n",
       "    .dataframe thead th {\n",
       "        text-align: right;\n",
       "    }\n",
       "</style>\n",
       "<table border=\"1\" class=\"dataframe\">\n",
       "  <thead>\n",
       "    <tr style=\"text-align: right;\">\n",
       "      <th></th>\n",
       "      <th>Name</th>\n",
       "      <th>Price</th>\n",
       "      <th>Color</th>\n",
       "      <th>Mileage</th>\n",
       "      <th>Make</th>\n",
       "      <th>Model</th>\n",
       "      <th>City</th>\n",
       "      <th>Date Displayed</th>\n",
       "      <th>Automatic Transmission</th>\n",
       "      <th>Air Conditioner</th>\n",
       "      <th>Power Steering</th>\n",
       "      <th>Remote Control</th>\n",
       "      <th>Item URL</th>\n",
       "    </tr>\n",
       "  </thead>\n",
       "  <tbody>\n",
       "    <tr>\n",
       "      <th>count</th>\n",
       "      <td>33559</td>\n",
       "      <td>32625</td>\n",
       "      <td>33559</td>\n",
       "      <td>31440</td>\n",
       "      <td>33559</td>\n",
       "      <td>33559</td>\n",
       "      <td>33559</td>\n",
       "      <td>33559</td>\n",
       "      <td>33559</td>\n",
       "      <td>33559</td>\n",
       "      <td>33559</td>\n",
       "      <td>33559</td>\n",
       "      <td>33559</td>\n",
       "    </tr>\n",
       "    <tr>\n",
       "      <th>unique</th>\n",
       "      <td>4158</td>\n",
       "      <td>828</td>\n",
       "      <td>24</td>\n",
       "      <td>1084</td>\n",
       "      <td>101</td>\n",
       "      <td>889</td>\n",
       "      <td>103</td>\n",
       "      <td>124</td>\n",
       "      <td>2</td>\n",
       "      <td>2</td>\n",
       "      <td>2</td>\n",
       "      <td>2</td>\n",
       "      <td>22048</td>\n",
       "    </tr>\n",
       "    <tr>\n",
       "      <th>top</th>\n",
       "      <td>Nissan Sunny 2022</td>\n",
       "      <td>650,000 EGP</td>\n",
       "      <td>Black</td>\n",
       "      <td>200,000 Km</td>\n",
       "      <td>Hyundai</td>\n",
       "      <td>Sunny</td>\n",
       "      <td>Cairo</td>\n",
       "      <td>2024-02-16</td>\n",
       "      <td>Yes</td>\n",
       "      <td>Yes</td>\n",
       "      <td>Yes</td>\n",
       "      <td>Yes</td>\n",
       "      <td>https://eg.hatla2ee.com/en/car/chevrolet/lanos...</td>\n",
       "    </tr>\n",
       "    <tr>\n",
       "      <th>freq</th>\n",
       "      <td>647</td>\n",
       "      <td>969</td>\n",
       "      <td>6532</td>\n",
       "      <td>1317</td>\n",
       "      <td>3800</td>\n",
       "      <td>1868</td>\n",
       "      <td>3983</td>\n",
       "      <td>12333</td>\n",
       "      <td>21289</td>\n",
       "      <td>20643</td>\n",
       "      <td>18450</td>\n",
       "      <td>19263</td>\n",
       "      <td>289</td>\n",
       "    </tr>\n",
       "  </tbody>\n",
       "</table>\n",
       "</div>"
      ],
      "text/plain": [
       "                     Name        Price  Color     Mileage     Make  Model  \\\n",
       "count               33559        32625  33559       31440    33559  33559   \n",
       "unique               4158          828     24        1084      101    889   \n",
       "top     Nissan Sunny 2022  650,000 EGP  Black  200,000 Km  Hyundai  Sunny   \n",
       "freq                  647          969   6532        1317     3800   1868   \n",
       "\n",
       "         City Date Displayed Automatic Transmission Air Conditioner  \\\n",
       "count   33559          33559                  33559           33559   \n",
       "unique    103            124                      2               2   \n",
       "top     Cairo     2024-02-16                    Yes             Yes   \n",
       "freq     3983          12333                  21289           20643   \n",
       "\n",
       "       Power Steering Remote Control  \\\n",
       "count           33559          33559   \n",
       "unique              2              2   \n",
       "top               Yes            Yes   \n",
       "freq            18450          19263   \n",
       "\n",
       "                                                 Item URL  \n",
       "count                                               33559  \n",
       "unique                                              22048  \n",
       "top     https://eg.hatla2ee.com/en/car/chevrolet/lanos...  \n",
       "freq                                                  289  "
      ]
     },
     "execution_count": 4,
     "metadata": {},
     "output_type": "execute_result"
    }
   ],
   "source": [
    "data.describe()"
   ]
  },
  {
   "cell_type": "code",
   "execution_count": 5,
   "metadata": {},
   "outputs": [
    {
     "name": "stdout",
     "output_type": "stream",
     "text": [
      "<class 'pandas.core.frame.DataFrame'>\n",
      "RangeIndex: 33559 entries, 0 to 33558\n",
      "Data columns (total 13 columns):\n",
      " #   Column                  Non-Null Count  Dtype \n",
      "---  ------                  --------------  ----- \n",
      " 0   Name                    33559 non-null  object\n",
      " 1   Price                   32625 non-null  object\n",
      " 2   Color                   33559 non-null  object\n",
      " 3   Mileage                 31440 non-null  object\n",
      " 4   Make                    33559 non-null  object\n",
      " 5   Model                   33559 non-null  object\n",
      " 6   City                    33559 non-null  object\n",
      " 7   Date Displayed          33559 non-null  object\n",
      " 8   Automatic Transmission  33559 non-null  object\n",
      " 9   Air Conditioner         33559 non-null  object\n",
      " 10  Power Steering          33559 non-null  object\n",
      " 11  Remote Control          33559 non-null  object\n",
      " 12  Item URL                33559 non-null  object\n",
      "dtypes: object(13)\n",
      "memory usage: 3.3+ MB\n"
     ]
    }
   ],
   "source": [
    "data.info()"
   ]
  },
  {
   "cell_type": "code",
   "execution_count": 6,
   "metadata": {},
   "outputs": [
    {
     "data": {
      "text/plain": [
       "Name                         0\n",
       "Price                      934\n",
       "Color                        0\n",
       "Mileage                   2119\n",
       "Make                         0\n",
       "Model                        0\n",
       "City                         0\n",
       "Date Displayed               0\n",
       "Automatic Transmission       0\n",
       "Air Conditioner              0\n",
       "Power Steering               0\n",
       "Remote Control               0\n",
       "Item URL                     0\n",
       "dtype: int64"
      ]
     },
     "execution_count": 6,
     "metadata": {},
     "output_type": "execute_result"
    }
   ],
   "source": [
    "data.isna().sum()"
   ]
  },
  {
   "cell_type": "code",
   "execution_count": 7,
   "metadata": {},
   "outputs": [
    {
     "data": {
      "text/plain": [
       "Name                      0.000000\n",
       "Price                     2.783158\n",
       "Color                     0.000000\n",
       "Mileage                   6.314253\n",
       "Make                      0.000000\n",
       "Model                     0.000000\n",
       "City                      0.000000\n",
       "Date Displayed            0.000000\n",
       "Automatic Transmission    0.000000\n",
       "Air Conditioner           0.000000\n",
       "Power Steering            0.000000\n",
       "Remote Control            0.000000\n",
       "Item URL                  0.000000\n",
       "dtype: float64"
      ]
     },
     "execution_count": 7,
     "metadata": {},
     "output_type": "execute_result"
    }
   ],
   "source": [
    "data.isna().mean() * 100 # percentage of nulls"
   ]
  },
  {
   "cell_type": "markdown",
   "metadata": {},
   "source": [
    "* ## handling boolean columns"
   ]
  },
  {
   "cell_type": "code",
   "execution_count": 8,
   "metadata": {},
   "outputs": [
    {
     "name": "stderr",
     "output_type": "stream",
     "text": [
      "/tmp/ipykernel_182103/3324789625.py:4: FutureWarning: A value is trying to be set on a copy of a DataFrame or Series through chained assignment using an inplace method.\n",
      "The behavior will change in pandas 3.0. This inplace method will never work because the intermediate object on which we are setting values always behaves as a copy.\n",
      "\n",
      "For example, when doing 'df[col].method(value, inplace=True)', try using 'df.method({col: value}, inplace=True)' or df[col] = df[col].method(value) instead, to perform the operation inplace on the original object.\n",
      "\n",
      "\n",
      "  data[col].replace({'Yes' : True,\n",
      "/tmp/ipykernel_182103/3324789625.py:4: FutureWarning: Downcasting behavior in `replace` is deprecated and will be removed in a future version. To retain the old behavior, explicitly call `result.infer_objects(copy=False)`. To opt-in to the future behavior, set `pd.set_option('future.no_silent_downcasting', True)`\n",
      "  data[col].replace({'Yes' : True,\n"
     ]
    },
    {
     "data": {
      "text/html": [
       "<div>\n",
       "<style scoped>\n",
       "    .dataframe tbody tr th:only-of-type {\n",
       "        vertical-align: middle;\n",
       "    }\n",
       "\n",
       "    .dataframe tbody tr th {\n",
       "        vertical-align: top;\n",
       "    }\n",
       "\n",
       "    .dataframe thead th {\n",
       "        text-align: right;\n",
       "    }\n",
       "</style>\n",
       "<table border=\"1\" class=\"dataframe\">\n",
       "  <thead>\n",
       "    <tr style=\"text-align: right;\">\n",
       "      <th></th>\n",
       "      <th>Name</th>\n",
       "      <th>Price</th>\n",
       "      <th>Color</th>\n",
       "      <th>Mileage</th>\n",
       "      <th>Make</th>\n",
       "      <th>Model</th>\n",
       "      <th>City</th>\n",
       "      <th>Date Displayed</th>\n",
       "      <th>Automatic Transmission</th>\n",
       "      <th>Air Conditioner</th>\n",
       "      <th>Power Steering</th>\n",
       "      <th>Remote Control</th>\n",
       "      <th>Item URL</th>\n",
       "    </tr>\n",
       "  </thead>\n",
       "  <tbody>\n",
       "    <tr>\n",
       "      <th>0</th>\n",
       "      <td>Kia Sportage 2024</td>\n",
       "      <td>2,800,000 EGP</td>\n",
       "      <td>Dark grey</td>\n",
       "      <td>300 Km</td>\n",
       "      <td>Kia</td>\n",
       "      <td>Sportage</td>\n",
       "      <td>Tagamo3 - New Cairo</td>\n",
       "      <td>2024-02-16</td>\n",
       "      <td>True</td>\n",
       "      <td>True</td>\n",
       "      <td>True</td>\n",
       "      <td>True</td>\n",
       "      <td>https://eg.hatla2ee.com/en/car/kia/sportage/62...</td>\n",
       "    </tr>\n",
       "    <tr>\n",
       "      <th>1</th>\n",
       "      <td>Chery Arrizo 5 2022</td>\n",
       "      <td>NaN</td>\n",
       "      <td>Bronze</td>\n",
       "      <td>86,000 Km</td>\n",
       "      <td>Chery</td>\n",
       "      <td>Arrizo 5</td>\n",
       "      <td>Nasr city</td>\n",
       "      <td>2024-02-16</td>\n",
       "      <td>True</td>\n",
       "      <td>True</td>\n",
       "      <td>True</td>\n",
       "      <td>True</td>\n",
       "      <td>https://eg.hatla2ee.com/en/car/chery/Arrizo-5/...</td>\n",
       "    </tr>\n",
       "    <tr>\n",
       "      <th>2</th>\n",
       "      <td>Fiat Tipo 2021</td>\n",
       "      <td>1,200,000 EGP</td>\n",
       "      <td>Petroleum</td>\n",
       "      <td>131,000 Km</td>\n",
       "      <td>Fiat</td>\n",
       "      <td>Tipo</td>\n",
       "      <td>Kafr el-Dawwar</td>\n",
       "      <td>2024-02-16</td>\n",
       "      <td>True</td>\n",
       "      <td>True</td>\n",
       "      <td>True</td>\n",
       "      <td>True</td>\n",
       "      <td>https://eg.hatla2ee.com/en/car/fiat/tipo/6286701</td>\n",
       "    </tr>\n",
       "    <tr>\n",
       "      <th>3</th>\n",
       "      <td>Hyundai Tucson Turbo GDI 2021</td>\n",
       "      <td>2,050,000 EGP</td>\n",
       "      <td>Black</td>\n",
       "      <td>125,000 Km</td>\n",
       "      <td>Hyundai</td>\n",
       "      <td>Tucson Turbo GDI</td>\n",
       "      <td>Nasr city</td>\n",
       "      <td>2024-02-16</td>\n",
       "      <td>True</td>\n",
       "      <td>True</td>\n",
       "      <td>True</td>\n",
       "      <td>True</td>\n",
       "      <td>https://eg.hatla2ee.com/en/car/hyundai/Tucson-...</td>\n",
       "    </tr>\n",
       "    <tr>\n",
       "      <th>4</th>\n",
       "      <td>BMW X1 2018</td>\n",
       "      <td>2,050,000 EGP</td>\n",
       "      <td>Gray</td>\n",
       "      <td>84,000 Km</td>\n",
       "      <td>BMW</td>\n",
       "      <td>X1</td>\n",
       "      <td>Cairo</td>\n",
       "      <td>2024-02-16</td>\n",
       "      <td>True</td>\n",
       "      <td>True</td>\n",
       "      <td>True</td>\n",
       "      <td>True</td>\n",
       "      <td>https://eg.hatla2ee.com/en/car/bmw/x1/6254123</td>\n",
       "    </tr>\n",
       "  </tbody>\n",
       "</table>\n",
       "</div>"
      ],
      "text/plain": [
       "                            Name          Price      Color     Mileage  \\\n",
       "0              Kia Sportage 2024  2,800,000 EGP  Dark grey      300 Km   \n",
       "1            Chery Arrizo 5 2022            NaN     Bronze   86,000 Km   \n",
       "2                 Fiat Tipo 2021  1,200,000 EGP  Petroleum  131,000 Km   \n",
       "3  Hyundai Tucson Turbo GDI 2021  2,050,000 EGP      Black  125,000 Km   \n",
       "4                    BMW X1 2018  2,050,000 EGP       Gray   84,000 Km   \n",
       "\n",
       "      Make             Model                 City Date Displayed  \\\n",
       "0      Kia          Sportage  Tagamo3 - New Cairo     2024-02-16   \n",
       "1    Chery          Arrizo 5            Nasr city     2024-02-16   \n",
       "2     Fiat              Tipo       Kafr el-Dawwar     2024-02-16   \n",
       "3  Hyundai  Tucson Turbo GDI            Nasr city     2024-02-16   \n",
       "4      BMW                X1                Cairo     2024-02-16   \n",
       "\n",
       "   Automatic Transmission  Air Conditioner  Power Steering  Remote Control  \\\n",
       "0                    True             True            True            True   \n",
       "1                    True             True            True            True   \n",
       "2                    True             True            True            True   \n",
       "3                    True             True            True            True   \n",
       "4                    True             True            True            True   \n",
       "\n",
       "                                            Item URL  \n",
       "0  https://eg.hatla2ee.com/en/car/kia/sportage/62...  \n",
       "1  https://eg.hatla2ee.com/en/car/chery/Arrizo-5/...  \n",
       "2   https://eg.hatla2ee.com/en/car/fiat/tipo/6286701  \n",
       "3  https://eg.hatla2ee.com/en/car/hyundai/Tucson-...  \n",
       "4      https://eg.hatla2ee.com/en/car/bmw/x1/6254123  "
      ]
     },
     "execution_count": 8,
     "metadata": {},
     "output_type": "execute_result"
    }
   ],
   "source": [
    "bool_col = ['Automatic Transmission', 'Air Conditioner', 'Power Steering', 'Remote Control']\n",
    "\n",
    "for col in bool_col:\n",
    "    data[col].replace({'Yes' : True,\n",
    "                       'No' : False}, inplace = True)\n",
    "\n",
    "data.head()"
   ]
  },
  {
   "cell_type": "markdown",
   "metadata": {},
   "source": [
    "* ## handling numeric columns"
   ]
  },
  {
   "cell_type": "code",
   "execution_count": 9,
   "metadata": {},
   "outputs": [],
   "source": [
    "def clean_num(x):\n",
    "    if type(x) == str:\n",
    "        return float(x.split()[0].replace(',' , ''))\n",
    "    else:\n",
    "        return np.nan"
   ]
  },
  {
   "cell_type": "code",
   "execution_count": 10,
   "metadata": {},
   "outputs": [],
   "source": [
    "data[\"Price\"] = data[\"Price\"].apply(clean_num)"
   ]
  },
  {
   "cell_type": "code",
   "execution_count": 11,
   "metadata": {},
   "outputs": [],
   "source": [
    "data[\"Mileage\"] = data[\"Mileage\"].apply(clean_num)"
   ]
  },
  {
   "cell_type": "code",
   "execution_count": 12,
   "metadata": {},
   "outputs": [
    {
     "data": {
      "text/plain": [
       "0        2800000.0\n",
       "1              NaN\n",
       "2        1200000.0\n",
       "3        2050000.0\n",
       "4        2050000.0\n",
       "           ...    \n",
       "33554     900000.0\n",
       "33555    3000000.0\n",
       "33556    1170000.0\n",
       "33557     285000.0\n",
       "33558          NaN\n",
       "Name: Price, Length: 33559, dtype: float64"
      ]
     },
     "execution_count": 12,
     "metadata": {},
     "output_type": "execute_result"
    }
   ],
   "source": [
    "data[\"Price\"]"
   ]
  },
  {
   "cell_type": "code",
   "execution_count": 13,
   "metadata": {},
   "outputs": [
    {
     "data": {
      "text/plain": [
       "0           300.0\n",
       "1         86000.0\n",
       "2        131000.0\n",
       "3        125000.0\n",
       "4         84000.0\n",
       "           ...   \n",
       "33554    240000.0\n",
       "33555         NaN\n",
       "33556     48000.0\n",
       "33557    175000.0\n",
       "33558         NaN\n",
       "Name: Mileage, Length: 33559, dtype: float64"
      ]
     },
     "execution_count": 13,
     "metadata": {},
     "output_type": "execute_result"
    }
   ],
   "source": [
    "data[\"Mileage\"]"
   ]
  },
  {
   "cell_type": "code",
   "execution_count": 14,
   "metadata": {},
   "outputs": [
    {
     "data": {
      "text/html": [
       "<div>\n",
       "<style scoped>\n",
       "    .dataframe tbody tr th:only-of-type {\n",
       "        vertical-align: middle;\n",
       "    }\n",
       "\n",
       "    .dataframe tbody tr th {\n",
       "        vertical-align: top;\n",
       "    }\n",
       "\n",
       "    .dataframe thead th {\n",
       "        text-align: right;\n",
       "    }\n",
       "</style>\n",
       "<table border=\"1\" class=\"dataframe\">\n",
       "  <thead>\n",
       "    <tr style=\"text-align: right;\">\n",
       "      <th></th>\n",
       "      <th>Name</th>\n",
       "      <th>Price</th>\n",
       "      <th>Color</th>\n",
       "      <th>Mileage</th>\n",
       "      <th>Make</th>\n",
       "      <th>Model</th>\n",
       "      <th>City</th>\n",
       "      <th>Date Displayed</th>\n",
       "      <th>Automatic Transmission</th>\n",
       "      <th>Air Conditioner</th>\n",
       "      <th>Power Steering</th>\n",
       "      <th>Remote Control</th>\n",
       "      <th>Item URL</th>\n",
       "    </tr>\n",
       "  </thead>\n",
       "  <tbody>\n",
       "    <tr>\n",
       "      <th>0</th>\n",
       "      <td>Kia Sportage 2024</td>\n",
       "      <td>2800000.0</td>\n",
       "      <td>Dark grey</td>\n",
       "      <td>300.0</td>\n",
       "      <td>Kia</td>\n",
       "      <td>Sportage</td>\n",
       "      <td>Tagamo3 - New Cairo</td>\n",
       "      <td>2024-02-16</td>\n",
       "      <td>True</td>\n",
       "      <td>True</td>\n",
       "      <td>True</td>\n",
       "      <td>True</td>\n",
       "      <td>https://eg.hatla2ee.com/en/car/kia/sportage/62...</td>\n",
       "    </tr>\n",
       "    <tr>\n",
       "      <th>1</th>\n",
       "      <td>Chery Arrizo 5 2022</td>\n",
       "      <td>NaN</td>\n",
       "      <td>Bronze</td>\n",
       "      <td>86000.0</td>\n",
       "      <td>Chery</td>\n",
       "      <td>Arrizo 5</td>\n",
       "      <td>Nasr city</td>\n",
       "      <td>2024-02-16</td>\n",
       "      <td>True</td>\n",
       "      <td>True</td>\n",
       "      <td>True</td>\n",
       "      <td>True</td>\n",
       "      <td>https://eg.hatla2ee.com/en/car/chery/Arrizo-5/...</td>\n",
       "    </tr>\n",
       "    <tr>\n",
       "      <th>2</th>\n",
       "      <td>Fiat Tipo 2021</td>\n",
       "      <td>1200000.0</td>\n",
       "      <td>Petroleum</td>\n",
       "      <td>131000.0</td>\n",
       "      <td>Fiat</td>\n",
       "      <td>Tipo</td>\n",
       "      <td>Kafr el-Dawwar</td>\n",
       "      <td>2024-02-16</td>\n",
       "      <td>True</td>\n",
       "      <td>True</td>\n",
       "      <td>True</td>\n",
       "      <td>True</td>\n",
       "      <td>https://eg.hatla2ee.com/en/car/fiat/tipo/6286701</td>\n",
       "    </tr>\n",
       "    <tr>\n",
       "      <th>3</th>\n",
       "      <td>Hyundai Tucson Turbo GDI 2021</td>\n",
       "      <td>2050000.0</td>\n",
       "      <td>Black</td>\n",
       "      <td>125000.0</td>\n",
       "      <td>Hyundai</td>\n",
       "      <td>Tucson Turbo GDI</td>\n",
       "      <td>Nasr city</td>\n",
       "      <td>2024-02-16</td>\n",
       "      <td>True</td>\n",
       "      <td>True</td>\n",
       "      <td>True</td>\n",
       "      <td>True</td>\n",
       "      <td>https://eg.hatla2ee.com/en/car/hyundai/Tucson-...</td>\n",
       "    </tr>\n",
       "    <tr>\n",
       "      <th>4</th>\n",
       "      <td>BMW X1 2018</td>\n",
       "      <td>2050000.0</td>\n",
       "      <td>Gray</td>\n",
       "      <td>84000.0</td>\n",
       "      <td>BMW</td>\n",
       "      <td>X1</td>\n",
       "      <td>Cairo</td>\n",
       "      <td>2024-02-16</td>\n",
       "      <td>True</td>\n",
       "      <td>True</td>\n",
       "      <td>True</td>\n",
       "      <td>True</td>\n",
       "      <td>https://eg.hatla2ee.com/en/car/bmw/x1/6254123</td>\n",
       "    </tr>\n",
       "  </tbody>\n",
       "</table>\n",
       "</div>"
      ],
      "text/plain": [
       "                            Name      Price      Color   Mileage     Make  \\\n",
       "0              Kia Sportage 2024  2800000.0  Dark grey     300.0      Kia   \n",
       "1            Chery Arrizo 5 2022        NaN     Bronze   86000.0    Chery   \n",
       "2                 Fiat Tipo 2021  1200000.0  Petroleum  131000.0     Fiat   \n",
       "3  Hyundai Tucson Turbo GDI 2021  2050000.0      Black  125000.0  Hyundai   \n",
       "4                    BMW X1 2018  2050000.0       Gray   84000.0      BMW   \n",
       "\n",
       "              Model                 City Date Displayed  \\\n",
       "0          Sportage  Tagamo3 - New Cairo     2024-02-16   \n",
       "1          Arrizo 5            Nasr city     2024-02-16   \n",
       "2              Tipo       Kafr el-Dawwar     2024-02-16   \n",
       "3  Tucson Turbo GDI            Nasr city     2024-02-16   \n",
       "4                X1                Cairo     2024-02-16   \n",
       "\n",
       "   Automatic Transmission  Air Conditioner  Power Steering  Remote Control  \\\n",
       "0                    True             True            True            True   \n",
       "1                    True             True            True            True   \n",
       "2                    True             True            True            True   \n",
       "3                    True             True            True            True   \n",
       "4                    True             True            True            True   \n",
       "\n",
       "                                            Item URL  \n",
       "0  https://eg.hatla2ee.com/en/car/kia/sportage/62...  \n",
       "1  https://eg.hatla2ee.com/en/car/chery/Arrizo-5/...  \n",
       "2   https://eg.hatla2ee.com/en/car/fiat/tipo/6286701  \n",
       "3  https://eg.hatla2ee.com/en/car/hyundai/Tucson-...  \n",
       "4      https://eg.hatla2ee.com/en/car/bmw/x1/6254123  "
      ]
     },
     "execution_count": 14,
     "metadata": {},
     "output_type": "execute_result"
    }
   ],
   "source": [
    "data.head()"
   ]
  },
  {
   "cell_type": "markdown",
   "metadata": {},
   "source": [
    "* ## EDA"
   ]
  },
  {
   "cell_type": "code",
   "execution_count": 15,
   "metadata": {},
   "outputs": [
    {
     "data": {
      "image/png": "[encoded data removed]",
      "text/plain": [
       "<Figure size 700x500 with 1 Axes>"
      ]
     },
     "metadata": {},
     "output_type": "display_data"
    }
   ],
   "source": [
    "plt.figure(figsize=(7, 5))\n",
    "df.groupby('Model').size().nlargest(10).sort_values().plot.barh(color='skyblue')\n",
    "plt.title(\"Top 10 Models\")\n",
    "plt.xlabel(\"Count\")\n",
    "plt.ylabel(\"Model\")\n",
    "plt.show()"
   ]
  },
  {
   "cell_type": "code",
   "execution_count": 16,
   "metadata": {},
   "outputs": [
    {
     "data": {
      "image/png": "[encoded data removed]",
      "text/plain": [
       "<Figure size 700x500 with 1 Axes>"
      ]
     },
     "metadata": {},
     "output_type": "display_data"
    }
   ],
   "source": [
    "plt.figure(figsize=(7, 5))\n",
    "df.groupby('Make').size().nlargest(10).sort_values().plot.barh(color='skyblue')\n",
    "plt.title(\"Top 10 Car Makers\")\n",
    "plt.xlabel(\"Count\")\n",
    "plt.ylabel(\"Model\")\n",
    "plt.show()"
   ]
  },
  {
   "cell_type": "code",
   "execution_count": 17,
   "metadata": {},
   "outputs": [
    {
     "data": {
      "application/vnd.plotly.v1+json": {
       "config": {
        "plotlyServerURL": "https://plot.ly"
       },
       "data": [
        {
         "hoverinfo": "label+percent+value",
         "labels": [
          "Hyundai",
          "Kia",
          "Nissan",
          "Chevrolet",
          "Toyota",
          "Fiat",
          "Chery",
          "Renault",
          "Mitsubishi",
          "Mercedes",
          "Skoda",
          "Opel",
          "BMW",
          "MG",
          "Daewoo"
         ],
         "pull": [
          0.1,
          0,
          0,
          0,
          0,
          0,
          0,
          0,
          0,
          0,
          0,
          0,
          0,
          0,
          0
         ],
         "textfont": {
          "size": 14
         },
         "textinfo": "label+percent",
         "type": "pie",
         "values": [
          3800,
          2986,
          2971,
          2288,
          1861,
          1767,
          1570,
          1542,
          1512,
          1381,
          1290,
          1276,
          1017,
          802,
          764
         ]
        }
       ],
       "layout": {
        "height": 800,
        "legend": {
         "font": {
          "size": 12
         },
         "orientation": "h",
         "x": 0.6,
         "xanchor": "center",
         "y": -0.4,
         "yanchor": "bottom"
        },
        "margin": {
         "b": 120,
         "l": 40,
         "r": 40,
         "t": 100
        },
        "showlegend": true,
        "template": {
         "data": {
          "bar": [
           {
            "error_x": {
             "color": "#2a3f5f"
            },
            "error_y": {
             "color": "#2a3f5f"
            },
            "marker": {
             "line": {
              "color": "#E5ECF6",
              "width": 0.5
             },
             "pattern": {
              "fillmode": "overlay",
              "size": 10,
              "solidity": 0.2
             }
            },
            "type": "bar"
           }
          ],
          "barpolar": [
           {
            "marker": {
             "line": {
              "color": "#E5ECF6",
              "width": 0.5
             },
             "pattern": {
              "fillmode": "overlay",
              "size": 10,
              "solidity": 0.2
             }
            },
            "type": "barpolar"
           }
          ],
          "carpet": [
           {
            "aaxis": {
             "endlinecolor": "#2a3f5f",
             "gridcolor": "white",
             "linecolor": "white",
             "minorgridcolor": "white",
             "startlinecolor": "#2a3f5f"
            },
            "baxis": {
             "endlinecolor": "#2a3f5f",
             "gridcolor": "white",
             "linecolor": "white",
             "minorgridcolor": "white",
             "startlinecolor": "#2a3f5f"
            },
            "type": "carpet"
           }
          ],
          "choropleth": [
           {
            "colorbar": {
             "outlinewidth": 0,
             "ticks": ""
            },
            "type": "choropleth"
           }
          ],
          "contour": [
           {
            "colorbar": {
             "outlinewidth": 0,
             "ticks": ""
            },
            "colorscale": [
             [
              0,
              "#0d0887"
             ],
             [
              0.1111111111111111,
              "#46039f"
             ],
             [
              0.2222222222222222,
              "#7201a8"
             ],
             [
              0.3333333333333333,
              "#9c179e"
             ],
             [
              0.4444444444444444,
              "#bd3786"
             ],
             [
              0.5555555555555556,
              "#d8576b"
             ],
             [
              0.6666666666666666,
              "#ed7953"
             ],
             [
              0.7777777777777778,
              "#fb9f3a"
             ],
             [
              0.8888888888888888,
              "#fdca26"
             ],
             [
              1,
              "#f0f921"
             ]
            ],
            "type": "contour"
           }
          ],
          "contourcarpet": [
           {
            "colorbar": {
             "outlinewidth": 0,
             "ticks": ""
            },
            "type": "contourcarpet"
           }
          ],
          "heatmap": [
           {
            "colorbar": {
             "outlinewidth": 0,
             "ticks": ""
            },
            "colorscale": [
             [
              0,
              "#0d0887"
             ],
             [
              0.1111111111111111,
              "#46039f"
             ],
             [
              0.2222222222222222,
              "#7201a8"
             ],
             [
              0.3333333333333333,
              "#9c179e"
             ],
             [
              0.4444444444444444,
              "#bd3786"
             ],
             [
              0.5555555555555556,
              "#d8576b"
             ],
             [
              0.6666666666666666,
              "#ed7953"
             ],
             [
              0.7777777777777778,
              "#fb9f3a"
             ],
             [
              0.8888888888888888,
              "#fdca26"
             ],
             [
              1,
              "#f0f921"
             ]
            ],
            "type": "heatmap"
           }
          ],
          "heatmapgl": [
           {
            "colorbar": {
             "outlinewidth": 0,
             "ticks": ""
            },
            "colorscale": [
             [
              0,
              "#0d0887"
             ],
             [
              0.1111111111111111,
              "#46039f"
             ],
             [
              0.2222222222222222,
              "#7201a8"
             ],
             [
              0.3333333333333333,
              "#9c179e"
             ],
             [
              0.4444444444444444,
              "#bd3786"
             ],
             [
              0.5555555555555556,
              "#d8576b"
             ],
             [
              0.6666666666666666,
              "#ed7953"
             ],
             [
              0.7777777777777778,
              "#fb9f3a"
             ],
             [
              0.8888888888888888,
              "#fdca26"
             ],
             [
              1,
              "#f0f921"
             ]
            ],
            "type": "heatmapgl"
           }
          ],
          "histogram": [
           {
            "marker": {
             "pattern": {
              "fillmode": "overlay",
              "size": 10,
              "solidity": 0.2
             }
            },
            "type": "histogram"
           }
          ],
          "histogram2d": [
           {
            "colorbar": {
             "outlinewidth": 0,
             "ticks": ""
            },
            "colorscale": [
             [
              0,
              "#0d0887"
             ],
             [
              0.1111111111111111,
              "#46039f"
             ],
             [
              0.2222222222222222,
              "#7201a8"
             ],
             [
              0.3333333333333333,
              "#9c179e"
             ],
             [
              0.4444444444444444,
              "#bd3786"
             ],
             [
              0.5555555555555556,
              "#d8576b"
             ],
             [
              0.6666666666666666,
              "#ed7953"
             ],
             [
              0.7777777777777778,
              "#fb9f3a"
             ],
             [
              0.8888888888888888,
              "#fdca26"
             ],
             [
              1,
              "#f0f921"
             ]
            ],
            "type": "histogram2d"
           }
          ],
          "histogram2dcontour": [
           {
            "colorbar": {
             "outlinewidth": 0,
             "ticks": ""
            },
            "colorscale": [
             [
              0,
              "#0d0887"
             ],
             [
              0.1111111111111111,
              "#46039f"
             ],
             [
              0.2222222222222222,
              "#7201a8"
             ],
             [
              0.3333333333333333,
              "#9c179e"
             ],
             [
              0.4444444444444444,
              "#bd3786"
             ],
             [
              0.5555555555555556,
              "#d8576b"
             ],
             [
              0.6666666666666666,
              "#ed7953"
             ],
             [
              0.7777777777777778,
              "#fb9f3a"
             ],
             [
              0.8888888888888888,
              "#fdca26"
             ],
             [
              1,
              "#f0f921"
             ]
            ],
            "type": "histogram2dcontour"
           }
          ],
          "mesh3d": [
           {
            "colorbar": {
             "outlinewidth": 0,
             "ticks": ""
            },
            "type": "mesh3d"
           }
          ],
          "parcoords": [
           {
            "line": {
             "colorbar": {
              "outlinewidth": 0,
              "ticks": ""
             }
            },
            "type": "parcoords"
           }
          ],
          "pie": [
           {
            "automargin": true,
            "type": "pie"
           }
          ],
          "scatter": [
           {
            "fillpattern": {
             "fillmode": "overlay",
             "size": 10,
             "solidity": 0.2
            },
            "type": "scatter"
           }
          ],
          "scatter3d": [
           {
            "line": {
             "colorbar": {
              "outlinewidth": 0,
              "ticks": ""
             }
            },
            "marker": {
             "colorbar": {
              "outlinewidth": 0,
              "ticks": ""
             }
            },
            "type": "scatter3d"
           }
          ],
          "scattercarpet": [
           {
            "marker": {
             "colorbar": {
              "outlinewidth": 0,
              "ticks": ""
             }
            },
            "type": "scattercarpet"
           }
          ],
          "scattergeo": [
           {
            "marker": {
             "colorbar": {
              "outlinewidth": 0,
              "ticks": ""
             }
            },
            "type": "scattergeo"
           }
          ],
          "scattergl": [
           {
            "marker": {
             "colorbar": {
              "outlinewidth": 0,
              "ticks": ""
             }
            },
            "type": "scattergl"
           }
          ],
          "scattermapbox": [
           {
            "marker": {
             "colorbar": {
              "outlinewidth": 0,
              "ticks": ""
             }
            },
            "type": "scattermapbox"
           }
          ],
          "scatterpolar": [
           {
            "marker": {
             "colorbar": {
              "outlinewidth": 0,
              "ticks": ""
             }
            },
            "type": "scatterpolar"
           }
          ],
          "scatterpolargl": [
           {
            "marker": {
             "colorbar": {
              "outlinewidth": 0,
              "ticks": ""
             }
            },
            "type": "scatterpolargl"
           }
          ],
          "scatterternary": [
           {
            "marker": {
             "colorbar": {
              "outlinewidth": 0,
              "ticks": ""
             }
            },
            "type": "scatterternary"
           }
          ],
          "surface": [
           {
            "colorbar": {
             "outlinewidth": 0,
             "ticks": ""
            },
            "colorscale": [
             [
              0,
              "#0d0887"
             ],
             [
              0.1111111111111111,
              "#46039f"
             ],
             [
              0.2222222222222222,
              "#7201a8"
             ],
             [
              0.3333333333333333,
              "#9c179e"
             ],
             [
              0.4444444444444444,
              "#bd3786"
             ],
             [
              0.5555555555555556,
              "#d8576b"
             ],
             [
              0.6666666666666666,
              "#ed7953"
             ],
             [
              0.7777777777777778,
              "#fb9f3a"
             ],
             [
              0.8888888888888888,
              "#fdca26"
             ],
             [
              1,
              "#f0f921"
             ]
            ],
            "type": "surface"
           }
          ],
          "table": [
           {
            "cells": {
             "fill": {
              "color": "#EBF0F8"
             },
             "line": {
              "color": "white"
             }
            },
            "header": {
             "fill": {
              "color": "#C8D4E3"
             },
             "line": {
              "color": "white"
             }
            },
            "type": "table"
           }
          ]
         },
         "layout": {
          "annotationdefaults": {
           "arrowcolor": "#2a3f5f",
           "arrowhead": 0,
           "arrowwidth": 1
          },
          "autotypenumbers": "strict",
          "coloraxis": {
           "colorbar": {
            "outlinewidth": 0,
            "ticks": ""
           }
          },
          "colorscale": {
           "diverging": [
            [
             0,
             "#8e0152"
            ],
            [
             0.1,
             "#c51b7d"
            ],
            [
             0.2,
             "#de77ae"
            ],
            [
             0.3,
             "#f1b6da"
            ],
            [
             0.4,
             "#fde0ef"
            ],
            [
             0.5,
             "#f7f7f7"
            ],
            [
             0.6,
             "#e6f5d0"
            ],
            [
             0.7,
             "#b8e186"
            ],
            [
             0.8,
             "#7fbc41"
            ],
            [
             0.9,
             "#4d9221"
            ],
            [
             1,
             "#276419"
            ]
           ],
           "sequential": [
            [
             0,
             "#0d0887"
            ],
            [
             0.1111111111111111,
             "#46039f"
            ],
            [
             0.2222222222222222,
             "#7201a8"
            ],
            [
             0.3333333333333333,
             "#9c179e"
            ],
            [
             0.4444444444444444,
             "#bd3786"
            ],
            [
             0.5555555555555556,
             "#d8576b"
            ],
            [
             0.6666666666666666,
             "#ed7953"
            ],
            [
             0.7777777777777778,
             "#fb9f3a"
            ],
            [
             0.8888888888888888,
             "#fdca26"
            ],
            [
             1,
             "#f0f921"
            ]
           ],
           "sequentialminus": [
            [
             0,
             "#0d0887"
            ],
            [
             0.1111111111111111,
             "#46039f"
            ],
            [
             0.2222222222222222,
             "#7201a8"
            ],
            [
             0.3333333333333333,
             "#9c179e"
            ],
            [
             0.4444444444444444,
             "#bd3786"
            ],
            [
             0.5555555555555556,
             "#d8576b"
            ],
            [
             0.6666666666666666,
             "#ed7953"
            ],
            [
             0.7777777777777778,
             "#fb9f3a"
            ],
            [
             0.8888888888888888,
             "#fdca26"
            ],
            [
             1,
             "#f0f921"
            ]
           ]
          },
          "colorway": [
           "#636efa",
           "#EF553B",
           "#00cc96",
           "#ab63fa",
           "#FFA15A",
           "#19d3f3",
           "#FF6692",
           "#B6E880",
           "#FF97FF",
           "#FECB52"
          ],
          "font": {
           "color": "#2a3f5f"
          },
          "geo": {
           "bgcolor": "white",
           "lakecolor": "white",
           "landcolor": "#E5ECF6",
           "showlakes": true,
           "showland": true,
           "subunitcolor": "white"
          },
          "hoverlabel": {
           "align": "left"
          },
          "hovermode": "closest",
          "mapbox": {
           "style": "light"
          },
          "paper_bgcolor": "white",
          "plot_bgcolor": "#E5ECF6",
          "polar": {
           "angularaxis": {
            "gridcolor": "white",
            "linecolor": "white",
            "ticks": ""
           },
           "bgcolor": "#E5ECF6",
           "radialaxis": {
            "gridcolor": "white",
            "linecolor": "white",
            "ticks": ""
           }
          },
          "scene": {
           "xaxis": {
            "backgroundcolor": "#E5ECF6",
            "gridcolor": "white",
            "gridwidth": 2,
            "linecolor": "white",
            "showbackground": true,
            "ticks": "",
            "zerolinecolor": "white"
           },
           "yaxis": {
            "backgroundcolor": "#E5ECF6",
            "gridcolor": "white",
            "gridwidth": 2,
            "linecolor": "white",
            "showbackground": true,
            "ticks": "",
            "zerolinecolor": "white"
           },
           "zaxis": {
            "backgroundcolor": "#E5ECF6",
            "gridcolor": "white",
            "gridwidth": 2,
            "linecolor": "white",
            "showbackground": true,
            "ticks": "",
            "zerolinecolor": "white"
           }
          },
          "shapedefaults": {
           "line": {
            "color": "#2a3f5f"
           }
          },
          "ternary": {
           "aaxis": {
            "gridcolor": "white",
            "linecolor": "white",
            "ticks": ""
           },
           "baxis": {
            "gridcolor": "white",
            "linecolor": "white",
            "ticks": ""
           },
           "bgcolor": "#E5ECF6",
           "caxis": {
            "gridcolor": "white",
            "linecolor": "white",
            "ticks": ""
           }
          },
          "title": {
           "x": 0.05
          },
          "xaxis": {
           "automargin": true,
           "gridcolor": "white",
           "linecolor": "white",
           "ticks": "",
           "title": {
            "standoff": 15
           },
           "zerolinecolor": "white",
           "zerolinewidth": 2
          },
          "yaxis": {
           "automargin": true,
           "gridcolor": "white",
           "linecolor": "white",
           "ticks": "",
           "title": {
            "standoff": 15
           },
           "zerolinecolor": "white",
           "zerolinewidth": 2
          }
         }
        },
        "title": {
         "font": {
          "color": "black",
          "family": "Arial",
          "size": 24
         },
         "text": "Top 15 Car Makers",
         "x": 0.5
        },
        "width": 800
       }
      }
     },
     "metadata": {},
     "output_type": "display_data"
    }
   ],
   "source": [
    "companies_count = df['Make'].value_counts().nlargest(15)\n",
    "\n",
    "\n",
    "fig = go.Figure(data=[go.Pie(labels=companies_count.index,\n",
    "                             values=companies_count.values,\n",
    "                             pull=[0.1] + [0] * (len(companies_count) - 1),  \n",
    "                             hoverinfo='label+percent+value',  \n",
    "                             textinfo='label+percent', \n",
    "                             textfont=dict(size=14)) \n",
    "                    ])\n",
    "\n",
    "fig.update_layout(\n",
    "    title_text=\"Top 15 Car Makers\", \n",
    "    title_x=0.5,  \n",
    "    title_font=dict(size=24, color='black', family='Arial'),\n",
    "    showlegend=True, \n",
    "    legend=dict(orientation=\"h\", yanchor=\"bottom\", y=-0.4, xanchor=\"center\", x=0.6, font=dict(size=12)),\n",
    "    margin=dict(t=100, b=120, l=40, r=40),\n",
    "    height=800, \n",
    "    width=800  \n",
    ")\n",
    "\n",
    "fig.show()"
   ]
  },
  {
   "cell_type": "code",
   "execution_count": 18,
   "metadata": {},
   "outputs": [
    {
     "data": {
      "application/vnd.plotly.v1+json": {
       "config": {
        "plotlyServerURL": "https://plot.ly"
       },
       "data": [
        {
         "hoverinfo": "label+percent+value",
         "labels": [
          "Sunny",
          "Corolla",
          "Verna",
          "Optra",
          "Tipo",
          "Arrizo 5",
          "Cerato",
          "Lanos",
          "Sportage",
          "Astra",
          "Lancer Puma",
          "Megane",
          "5",
          "Sentra",
          "Tiggo 3"
         ],
         "pull": [
          0.1,
          0,
          0,
          0,
          0,
          0,
          0,
          0,
          0,
          0,
          0,
          0,
          0,
          0,
          0
         ],
         "textfont": {
          "size": 14
         },
         "textinfo": "label+percent",
         "type": "pie",
         "values": [
          1868,
          1536,
          1092,
          966,
          895,
          882,
          745,
          693,
          665,
          567,
          559,
          499,
          497,
          485,
          439
         ]
        }
       ],
       "layout": {
        "height": 800,
        "legend": {
         "font": {
          "size": 12
         },
         "orientation": "h",
         "x": 0.6,
         "xanchor": "center",
         "y": -0.4,
         "yanchor": "bottom"
        },
        "margin": {
         "b": 120,
         "l": 40,
         "r": 40,
         "t": 100
        },
        "showlegend": true,
        "template": {
         "data": {
          "bar": [
           {
            "error_x": {
             "color": "#2a3f5f"
            },
            "error_y": {
             "color": "#2a3f5f"
            },
            "marker": {
             "line": {
              "color": "#E5ECF6",
              "width": 0.5
             },
             "pattern": {
              "fillmode": "overlay",
              "size": 10,
              "solidity": 0.2
             }
            },
            "type": "bar"
           }
          ],
          "barpolar": [
           {
            "marker": {
             "line": {
              "color": "#E5ECF6",
              "width": 0.5
             },
             "pattern": {
              "fillmode": "overlay",
              "size": 10,
              "solidity": 0.2
             }
            },
            "type": "barpolar"
           }
          ],
          "carpet": [
           {
            "aaxis": {
             "endlinecolor": "#2a3f5f",
             "gridcolor": "white",
             "linecolor": "white",
             "minorgridcolor": "white",
             "startlinecolor": "#2a3f5f"
            },
            "baxis": {
             "endlinecolor": "#2a3f5f",
             "gridcolor": "white",
             "linecolor": "white",
             "minorgridcolor": "white",
             "startlinecolor": "#2a3f5f"
            },
            "type": "carpet"
           }
          ],
          "choropleth": [
           {
            "colorbar": {
             "outlinewidth": 0,
             "ticks": ""
            },
            "type": "choropleth"
           }
          ],
          "contour": [
           {
            "colorbar": {
             "outlinewidth": 0,
             "ticks": ""
            },
            "colorscale": [
             [
              0,
              "#0d0887"
             ],
             [
              0.1111111111111111,
              "#46039f"
             ],
             [
              0.2222222222222222,
              "#7201a8"
             ],
             [
              0.3333333333333333,
              "#9c179e"
             ],
             [
              0.4444444444444444,
              "#bd3786"
             ],
             [
              0.5555555555555556,
              "#d8576b"
             ],
             [
              0.6666666666666666,
              "#ed7953"
             ],
             [
              0.7777777777777778,
              "#fb9f3a"
             ],
             [
              0.8888888888888888,
              "#fdca26"
             ],
             [
              1,
              "#f0f921"
             ]
            ],
            "type": "contour"
           }
          ],
          "contourcarpet": [
           {
            "colorbar": {
             "outlinewidth": 0,
             "ticks": ""
            },
            "type": "contourcarpet"
           }
          ],
          "heatmap": [
           {
            "colorbar": {
             "outlinewidth": 0,
             "ticks": ""
            },
            "colorscale": [
             [
              0,
              "#0d0887"
             ],
             [
              0.1111111111111111,
              "#46039f"
             ],
             [
              0.2222222222222222,
              "#7201a8"
             ],
             [
              0.3333333333333333,
              "#9c179e"
             ],
             [
              0.4444444444444444,
              "#bd3786"
             ],
             [
              0.5555555555555556,
              "#d8576b"
             ],
             [
              0.6666666666666666,
              "#ed7953"
             ],
             [
              0.7777777777777778,
              "#fb9f3a"
             ],
             [
              0.8888888888888888,
              "#fdca26"
             ],
             [
              1,
              "#f0f921"
             ]
            ],
            "type": "heatmap"
           }
          ],
          "heatmapgl": [
           {
            "colorbar": {
             "outlinewidth": 0,
             "ticks": ""
            },
            "colorscale": [
             [
              0,
              "#0d0887"
             ],
             [
              0.1111111111111111,
              "#46039f"
             ],
             [
              0.2222222222222222,
              "#7201a8"
             ],
             [
              0.3333333333333333,
              "#9c179e"
             ],
             [
              0.4444444444444444,
              "#bd3786"
             ],
             [
              0.5555555555555556,
              "#d8576b"
             ],
             [
              0.6666666666666666,
              "#ed7953"
             ],
             [
              0.7777777777777778,
              "#fb9f3a"
             ],
             [
              0.8888888888888888,
              "#fdca26"
             ],
             [
              1,
              "#f0f921"
             ]
            ],
            "type": "heatmapgl"
           }
          ],
          "histogram": [
           {
            "marker": {
             "pattern": {
              "fillmode": "overlay",
              "size": 10,
              "solidity": 0.2
             }
            },
            "type": "histogram"
           }
          ],
          "histogram2d": [
           {
            "colorbar": {
             "outlinewidth": 0,
             "ticks": ""
            },
            "colorscale": [
             [
              0,
              "#0d0887"
             ],
             [
              0.1111111111111111,
              "#46039f"
             ],
             [
              0.2222222222222222,
              "#7201a8"
             ],
             [
              0.3333333333333333,
              "#9c179e"
             ],
             [
              0.4444444444444444,
              "#bd3786"
             ],
             [
              0.5555555555555556,
              "#d8576b"
             ],
             [
              0.6666666666666666,
              "#ed7953"
             ],
             [
              0.7777777777777778,
              "#fb9f3a"
             ],
             [
              0.8888888888888888,
              "#fdca26"
             ],
             [
              1,
              "#f0f921"
             ]
            ],
            "type": "histogram2d"
           }
          ],
          "histogram2dcontour": [
           {
            "colorbar": {
             "outlinewidth": 0,
             "ticks": ""
            },
            "colorscale": [
             [
              0,
              "#0d0887"
             ],
             [
              0.1111111111111111,
              "#46039f"
             ],
             [
              0.2222222222222222,
              "#7201a8"
             ],
             [
              0.3333333333333333,
              "#9c179e"
             ],
             [
              0.4444444444444444,
              "#bd3786"
             ],
             [
              0.5555555555555556,
              "#d8576b"
             ],
             [
              0.6666666666666666,
              "#ed7953"
             ],
             [
              0.7777777777777778,
              "#fb9f3a"
             ],
             [
              0.8888888888888888,
              "#fdca26"
             ],
             [
              1,
              "#f0f921"
             ]
            ],
            "type": "histogram2dcontour"
           }
          ],
          "mesh3d": [
           {
            "colorbar": {
             "outlinewidth": 0,
             "ticks": ""
            },
            "type": "mesh3d"
           }
          ],
          "parcoords": [
           {
            "line": {
             "colorbar": {
              "outlinewidth": 0,
              "ticks": ""
             }
            },
            "type": "parcoords"
           }
          ],
          "pie": [
           {
            "automargin": true,
            "type": "pie"
           }
          ],
          "scatter": [
           {
            "fillpattern": {
             "fillmode": "overlay",
             "size": 10,
             "solidity": 0.2
            },
            "type": "scatter"
           }
          ],
          "scatter3d": [
           {
            "line": {
             "colorbar": {
              "outlinewidth": 0,
              "ticks": ""
             }
            },
            "marker": {
             "colorbar": {
              "outlinewidth": 0,
              "ticks": ""
             }
            },
            "type": "scatter3d"
           }
          ],
          "scattercarpet": [
           {
            "marker": {
             "colorbar": {
              "outlinewidth": 0,
              "ticks": ""
             }
            },
            "type": "scattercarpet"
           }
          ],
          "scattergeo": [
           {
            "marker": {
             "colorbar": {
              "outlinewidth": 0,
              "ticks": ""
             }
            },
            "type": "scattergeo"
           }
          ],
          "scattergl": [
           {
            "marker": {
             "colorbar": {
              "outlinewidth": 0,
              "ticks": ""
             }
            },
            "type": "scattergl"
           }
          ],
          "scattermapbox": [
           {
            "marker": {
             "colorbar": {
              "outlinewidth": 0,
              "ticks": ""
             }
            },
            "type": "scattermapbox"
           }
          ],
          "scatterpolar": [
           {
            "marker": {
             "colorbar": {
              "outlinewidth": 0,
              "ticks": ""
             }
            },
            "type": "scatterpolar"
           }
          ],
          "scatterpolargl": [
           {
            "marker": {
             "colorbar": {
              "outlinewidth": 0,
              "ticks": ""
             }
            },
            "type": "scatterpolargl"
           }
          ],
          "scatterternary": [
           {
            "marker": {
             "colorbar": {
              "outlinewidth": 0,
              "ticks": ""
             }
            },
            "type": "scatterternary"
           }
          ],
          "surface": [
           {
            "colorbar": {
             "outlinewidth": 0,
             "ticks": ""
            },
            "colorscale": [
             [
              0,
              "#0d0887"
             ],
             [
              0.1111111111111111,
              "#46039f"
             ],
             [
              0.2222222222222222,
              "#7201a8"
             ],
             [
              0.3333333333333333,
              "#9c179e"
             ],
             [
              0.4444444444444444,
              "#bd3786"
             ],
             [
              0.5555555555555556,
              "#d8576b"
             ],
             [
              0.6666666666666666,
              "#ed7953"
             ],
             [
              0.7777777777777778,
              "#fb9f3a"
             ],
             [
              0.8888888888888888,
              "#fdca26"
             ],
             [
              1,
              "#f0f921"
             ]
            ],
            "type": "surface"
           }
          ],
          "table": [
           {
            "cells": {
             "fill": {
              "color": "#EBF0F8"
             },
             "line": {
              "color": "white"
             }
            },
            "header": {
             "fill": {
              "color": "#C8D4E3"
             },
             "line": {
              "color": "white"
             }
            },
            "type": "table"
           }
          ]
         },
         "layout": {
          "annotationdefaults": {
           "arrowcolor": "#2a3f5f",
           "arrowhead": 0,
           "arrowwidth": 1
          },
          "autotypenumbers": "strict",
          "coloraxis": {
           "colorbar": {
            "outlinewidth": 0,
            "ticks": ""
           }
          },
          "colorscale": {
           "diverging": [
            [
             0,
             "#8e0152"
            ],
            [
             0.1,
             "#c51b7d"
            ],
            [
             0.2,
             "#de77ae"
            ],
            [
             0.3,
             "#f1b6da"
            ],
            [
             0.4,
             "#fde0ef"
            ],
            [
             0.5,
             "#f7f7f7"
            ],
            [
             0.6,
             "#e6f5d0"
            ],
            [
             0.7,
             "#b8e186"
            ],
            [
             0.8,
             "#7fbc41"
            ],
            [
             0.9,
             "#4d9221"
            ],
            [
             1,
             "#276419"
            ]
           ],
           "sequential": [
            [
             0,
             "#0d0887"
            ],
            [
             0.1111111111111111,
             "#46039f"
            ],
            [
             0.2222222222222222,
             "#7201a8"
            ],
            [
             0.3333333333333333,
             "#9c179e"
            ],
            [
             0.4444444444444444,
             "#bd3786"
            ],
            [
             0.5555555555555556,
             "#d8576b"
            ],
            [
             0.6666666666666666,
             "#ed7953"
            ],
            [
             0.7777777777777778,
             "#fb9f3a"
            ],
            [
             0.8888888888888888,
             "#fdca26"
            ],
            [
             1,
             "#f0f921"
            ]
           ],
           "sequentialminus": [
            [
             0,
             "#0d0887"
            ],
            [
             0.1111111111111111,
             "#46039f"
            ],
            [
             0.2222222222222222,
             "#7201a8"
            ],
            [
             0.3333333333333333,
             "#9c179e"
            ],
            [
             0.4444444444444444,
             "#bd3786"
            ],
            [
             0.5555555555555556,
             "#d8576b"
            ],
            [
             0.6666666666666666,
             "#ed7953"
            ],
            [
             0.7777777777777778,
             "#fb9f3a"
            ],
            [
             0.8888888888888888,
             "#fdca26"
            ],
            [
             1,
             "#f0f921"
            ]
           ]
          },
          "colorway": [
           "#636efa",
           "#EF553B",
           "#00cc96",
           "#ab63fa",
           "#FFA15A",
           "#19d3f3",
           "#FF6692",
           "#B6E880",
           "#FF97FF",
           "#FECB52"
          ],
          "font": {
           "color": "#2a3f5f"
          },
          "geo": {
           "bgcolor": "white",
           "lakecolor": "white",
           "landcolor": "#E5ECF6",
           "showlakes": true,
           "showland": true,
           "subunitcolor": "white"
          },
          "hoverlabel": {
           "align": "left"
          },
          "hovermode": "closest",
          "mapbox": {
           "style": "light"
          },
          "paper_bgcolor": "white",
          "plot_bgcolor": "#E5ECF6",
          "polar": {
           "angularaxis": {
            "gridcolor": "white",
            "linecolor": "white",
            "ticks": ""
           },
           "bgcolor": "#E5ECF6",
           "radialaxis": {
            "gridcolor": "white",
            "linecolor": "white",
            "ticks": ""
           }
          },
          "scene": {
           "xaxis": {
            "backgroundcolor": "#E5ECF6",
            "gridcolor": "white",
            "gridwidth": 2,
            "linecolor": "white",
            "showbackground": true,
            "ticks": "",
            "zerolinecolor": "white"
           },
           "yaxis": {
            "backgroundcolor": "#E5ECF6",
            "gridcolor": "white",
            "gridwidth": 2,
            "linecolor": "white",
            "showbackground": true,
            "ticks": "",
            "zerolinecolor": "white"
           },
           "zaxis": {
            "backgroundcolor": "#E5ECF6",
            "gridcolor": "white",
            "gridwidth": 2,
            "linecolor": "white",
            "showbackground": true,
            "ticks": "",
            "zerolinecolor": "white"
           }
          },
          "shapedefaults": {
           "line": {
            "color": "#2a3f5f"
           }
          },
          "ternary": {
           "aaxis": {
            "gridcolor": "white",
            "linecolor": "white",
            "ticks": ""
           },
           "baxis": {
            "gridcolor": "white",
            "linecolor": "white",
            "ticks": ""
           },
           "bgcolor": "#E5ECF6",
           "caxis": {
            "gridcolor": "white",
            "linecolor": "white",
            "ticks": ""
           }
          },
          "title": {
           "x": 0.05
          },
          "xaxis": {
           "automargin": true,
           "gridcolor": "white",
           "linecolor": "white",
           "ticks": "",
           "title": {
            "standoff": 15
           },
           "zerolinecolor": "white",
           "zerolinewidth": 2
          },
          "yaxis": {
           "automargin": true,
           "gridcolor": "white",
           "linecolor": "white",
           "ticks": "",
           "title": {
            "standoff": 15
           },
           "zerolinecolor": "white",
           "zerolinewidth": 2
          }
         }
        },
        "title": {
         "font": {
          "color": "black",
          "family": "Arial",
          "size": 24
         },
         "text": "Top 15 Car Models",
         "x": 0.5
        },
        "width": 800
       }
      }
     },
     "metadata": {},
     "output_type": "display_data"
    }
   ],
   "source": [
    "companies_count = df['Model'].value_counts().nlargest(15)\n",
    "\n",
    "\n",
    "fig = go.Figure(data=[go.Pie(labels=companies_count.index,\n",
    "                             values=companies_count.values,\n",
    "                             pull=[0.1] + [0] * (len(companies_count) - 1),  \n",
    "                             hoverinfo='label+percent+value',  \n",
    "                             textinfo='label+percent', \n",
    "                             textfont=dict(size=14)) \n",
    "                    ])\n",
    "\n",
    "fig.update_layout(\n",
    "    title_text=\"Top 15 Car Models\", \n",
    "    title_x=0.5,  \n",
    "    title_font=dict(size=24, color='black', family='Arial'),\n",
    "    showlegend=True, \n",
    "    legend=dict(orientation=\"h\", yanchor=\"bottom\", y=-0.4, xanchor=\"center\", x=0.6, font=dict(size=12)),\n",
    "    margin=dict(t=100, b=120, l=40, r=40),\n",
    "    height=800, \n",
    "    width=800  \n",
    ")\n",
    "\n",
    "fig.show()"
   ]
  },
  {
   "cell_type": "code",
   "execution_count": 19,
   "metadata": {},
   "outputs": [
    {
     "data": {
      "image/png": "[encoded data removed]",
      "text/plain": [
       "<Figure size 700x500 with 1 Axes>"
      ]
     },
     "metadata": {},
     "output_type": "display_data"
    }
   ],
   "source": [
    "plt.figure(figsize=(7, 5))\n",
    "df.groupby('Color').size().nlargest(10).sort_values().plot.barh(color='skyblue')\n",
    "plt.title(\"Top 10 Colors\")\n",
    "plt.xlabel(\"Count\")\n",
    "plt.ylabel(\"Color\")\n",
    "plt.show()"
   ]
  },
  {
   "cell_type": "markdown",
   "metadata": {},
   "source": [
    "* ## Handling duplicates"
   ]
  },
  {
   "cell_type": "code",
   "execution_count": 20,
   "metadata": {},
   "outputs": [],
   "source": [
    "data.drop_duplicates(inplace=True)"
   ]
  },
  {
   "cell_type": "code",
   "execution_count": 21,
   "metadata": {},
   "outputs": [
    {
     "data": {
      "text/html": [
       "<div>\n",
       "<style scoped>\n",
       "    .dataframe tbody tr th:only-of-type {\n",
       "        vertical-align: middle;\n",
       "    }\n",
       "\n",
       "    .dataframe tbody tr th {\n",
       "        vertical-align: top;\n",
       "    }\n",
       "\n",
       "    .dataframe thead th {\n",
       "        text-align: right;\n",
       "    }\n",
       "</style>\n",
       "<table border=\"1\" class=\"dataframe\">\n",
       "  <thead>\n",
       "    <tr style=\"text-align: right;\">\n",
       "      <th></th>\n",
       "      <th>Name</th>\n",
       "      <th>Price</th>\n",
       "      <th>Color</th>\n",
       "      <th>Mileage</th>\n",
       "      <th>Make</th>\n",
       "      <th>Model</th>\n",
       "      <th>City</th>\n",
       "      <th>Date Displayed</th>\n",
       "      <th>Automatic Transmission</th>\n",
       "      <th>Air Conditioner</th>\n",
       "      <th>Power Steering</th>\n",
       "      <th>Remote Control</th>\n",
       "      <th>Item URL</th>\n",
       "    </tr>\n",
       "  </thead>\n",
       "  <tbody>\n",
       "    <tr>\n",
       "      <th>0</th>\n",
       "      <td>Kia Sportage 2024</td>\n",
       "      <td>2800000.0</td>\n",
       "      <td>Dark grey</td>\n",
       "      <td>300.0</td>\n",
       "      <td>Kia</td>\n",
       "      <td>Sportage</td>\n",
       "      <td>Tagamo3 - New Cairo</td>\n",
       "      <td>2024-02-16</td>\n",
       "      <td>True</td>\n",
       "      <td>True</td>\n",
       "      <td>True</td>\n",
       "      <td>True</td>\n",
       "      <td>https://eg.hatla2ee.com/en/car/kia/sportage/62...</td>\n",
       "    </tr>\n",
       "    <tr>\n",
       "      <th>1</th>\n",
       "      <td>Chery Arrizo 5 2022</td>\n",
       "      <td>NaN</td>\n",
       "      <td>Bronze</td>\n",
       "      <td>86000.0</td>\n",
       "      <td>Chery</td>\n",
       "      <td>Arrizo 5</td>\n",
       "      <td>Nasr city</td>\n",
       "      <td>2024-02-16</td>\n",
       "      <td>True</td>\n",
       "      <td>True</td>\n",
       "      <td>True</td>\n",
       "      <td>True</td>\n",
       "      <td>https://eg.hatla2ee.com/en/car/chery/Arrizo-5/...</td>\n",
       "    </tr>\n",
       "    <tr>\n",
       "      <th>2</th>\n",
       "      <td>Fiat Tipo 2021</td>\n",
       "      <td>1200000.0</td>\n",
       "      <td>Petroleum</td>\n",
       "      <td>131000.0</td>\n",
       "      <td>Fiat</td>\n",
       "      <td>Tipo</td>\n",
       "      <td>Kafr el-Dawwar</td>\n",
       "      <td>2024-02-16</td>\n",
       "      <td>True</td>\n",
       "      <td>True</td>\n",
       "      <td>True</td>\n",
       "      <td>True</td>\n",
       "      <td>https://eg.hatla2ee.com/en/car/fiat/tipo/6286701</td>\n",
       "    </tr>\n",
       "    <tr>\n",
       "      <th>3</th>\n",
       "      <td>Hyundai Tucson Turbo GDI 2021</td>\n",
       "      <td>2050000.0</td>\n",
       "      <td>Black</td>\n",
       "      <td>125000.0</td>\n",
       "      <td>Hyundai</td>\n",
       "      <td>Tucson Turbo GDI</td>\n",
       "      <td>Nasr city</td>\n",
       "      <td>2024-02-16</td>\n",
       "      <td>True</td>\n",
       "      <td>True</td>\n",
       "      <td>True</td>\n",
       "      <td>True</td>\n",
       "      <td>https://eg.hatla2ee.com/en/car/hyundai/Tucson-...</td>\n",
       "    </tr>\n",
       "    <tr>\n",
       "      <th>4</th>\n",
       "      <td>BMW X1 2018</td>\n",
       "      <td>2050000.0</td>\n",
       "      <td>Gray</td>\n",
       "      <td>84000.0</td>\n",
       "      <td>BMW</td>\n",
       "      <td>X1</td>\n",
       "      <td>Cairo</td>\n",
       "      <td>2024-02-16</td>\n",
       "      <td>True</td>\n",
       "      <td>True</td>\n",
       "      <td>True</td>\n",
       "      <td>True</td>\n",
       "      <td>https://eg.hatla2ee.com/en/car/bmw/x1/6254123</td>\n",
       "    </tr>\n",
       "    <tr>\n",
       "      <th>...</th>\n",
       "      <td>...</td>\n",
       "      <td>...</td>\n",
       "      <td>...</td>\n",
       "      <td>...</td>\n",
       "      <td>...</td>\n",
       "      <td>...</td>\n",
       "      <td>...</td>\n",
       "      <td>...</td>\n",
       "      <td>...</td>\n",
       "      <td>...</td>\n",
       "      <td>...</td>\n",
       "      <td>...</td>\n",
       "      <td>...</td>\n",
       "    </tr>\n",
       "    <tr>\n",
       "      <th>31734</th>\n",
       "      <td>Chery Arrizo 5 2020</td>\n",
       "      <td>560000.0</td>\n",
       "      <td>White</td>\n",
       "      <td>NaN</td>\n",
       "      <td>Chery</td>\n",
       "      <td>Arrizo 5</td>\n",
       "      <td>El Haram</td>\n",
       "      <td>2024-02-16</td>\n",
       "      <td>True</td>\n",
       "      <td>True</td>\n",
       "      <td>True</td>\n",
       "      <td>True</td>\n",
       "      <td>https://eg.hatla2ee.com/en/car/chery/Arrizo-5/...</td>\n",
       "    </tr>\n",
       "    <tr>\n",
       "      <th>31735</th>\n",
       "      <td>Nissan Sunny 2024</td>\n",
       "      <td>860000.0</td>\n",
       "      <td>Red</td>\n",
       "      <td>7000.0</td>\n",
       "      <td>Nissan</td>\n",
       "      <td>Sunny</td>\n",
       "      <td>Heliopolis</td>\n",
       "      <td>2024-02-16</td>\n",
       "      <td>True</td>\n",
       "      <td>True</td>\n",
       "      <td>True</td>\n",
       "      <td>True</td>\n",
       "      <td>https://eg.hatla2ee.com/en/car/nissan/sunny/62...</td>\n",
       "    </tr>\n",
       "    <tr>\n",
       "      <th>31736</th>\n",
       "      <td>Brilliance V5 2013</td>\n",
       "      <td>1000000.0</td>\n",
       "      <td>Blue</td>\n",
       "      <td>250000.0</td>\n",
       "      <td>Brilliance</td>\n",
       "      <td>V5</td>\n",
       "      <td>Tagamo3 - New Cairo</td>\n",
       "      <td>2024-02-16</td>\n",
       "      <td>True</td>\n",
       "      <td>True</td>\n",
       "      <td>True</td>\n",
       "      <td>True</td>\n",
       "      <td>https://eg.hatla2ee.com/en/car/brilliance/v5/6...</td>\n",
       "    </tr>\n",
       "    <tr>\n",
       "      <th>31737</th>\n",
       "      <td>BMW 320 2023</td>\n",
       "      <td>3650000.0</td>\n",
       "      <td>Black</td>\n",
       "      <td>11000.0</td>\n",
       "      <td>BMW</td>\n",
       "      <td>320</td>\n",
       "      <td>Cairo</td>\n",
       "      <td>2024-02-16</td>\n",
       "      <td>True</td>\n",
       "      <td>True</td>\n",
       "      <td>True</td>\n",
       "      <td>True</td>\n",
       "      <td>https://eg.hatla2ee.com/en/car/bmw/320/6280982</td>\n",
       "    </tr>\n",
       "    <tr>\n",
       "      <th>31738</th>\n",
       "      <td>Mercedes C 180 2009</td>\n",
       "      <td>1375000.0</td>\n",
       "      <td>Dark grey</td>\n",
       "      <td>135000.0</td>\n",
       "      <td>Mercedes</td>\n",
       "      <td>C 180</td>\n",
       "      <td>Obour City</td>\n",
       "      <td>2024-02-16</td>\n",
       "      <td>True</td>\n",
       "      <td>True</td>\n",
       "      <td>True</td>\n",
       "      <td>True</td>\n",
       "      <td>https://eg.hatla2ee.com/en/car/mercedes/c-180/...</td>\n",
       "    </tr>\n",
       "  </tbody>\n",
       "</table>\n",
       "<p>22052 rows × 13 columns</p>\n",
       "</div>"
      ],
      "text/plain": [
       "                                Name      Price      Color   Mileage  \\\n",
       "0                  Kia Sportage 2024  2800000.0  Dark grey     300.0   \n",
       "1                Chery Arrizo 5 2022        NaN     Bronze   86000.0   \n",
       "2                     Fiat Tipo 2021  1200000.0  Petroleum  131000.0   \n",
       "3      Hyundai Tucson Turbo GDI 2021  2050000.0      Black  125000.0   \n",
       "4                        BMW X1 2018  2050000.0       Gray   84000.0   \n",
       "...                              ...        ...        ...       ...   \n",
       "31734            Chery Arrizo 5 2020   560000.0      White       NaN   \n",
       "31735              Nissan Sunny 2024   860000.0        Red    7000.0   \n",
       "31736             Brilliance V5 2013  1000000.0       Blue  250000.0   \n",
       "31737                   BMW 320 2023  3650000.0      Black   11000.0   \n",
       "31738            Mercedes C 180 2009  1375000.0  Dark grey  135000.0   \n",
       "\n",
       "             Make             Model                 City Date Displayed  \\\n",
       "0             Kia          Sportage  Tagamo3 - New Cairo     2024-02-16   \n",
       "1           Chery          Arrizo 5            Nasr city     2024-02-16   \n",
       "2            Fiat              Tipo       Kafr el-Dawwar     2024-02-16   \n",
       "3         Hyundai  Tucson Turbo GDI            Nasr city     2024-02-16   \n",
       "4             BMW                X1                Cairo     2024-02-16   \n",
       "...           ...               ...                  ...            ...   \n",
       "31734       Chery          Arrizo 5             El Haram     2024-02-16   \n",
       "31735      Nissan             Sunny           Heliopolis     2024-02-16   \n",
       "31736  Brilliance                V5  Tagamo3 - New Cairo     2024-02-16   \n",
       "31737         BMW               320                Cairo     2024-02-16   \n",
       "31738    Mercedes             C 180           Obour City     2024-02-16   \n",
       "\n",
       "       Automatic Transmission  Air Conditioner  Power Steering  \\\n",
       "0                        True             True            True   \n",
       "1                        True             True            True   \n",
       "2                        True             True            True   \n",
       "3                        True             True            True   \n",
       "4                        True             True            True   \n",
       "...                       ...              ...             ...   \n",
       "31734                    True             True            True   \n",
       "31735                    True             True            True   \n",
       "31736                    True             True            True   \n",
       "31737                    True             True            True   \n",
       "31738                    True             True            True   \n",
       "\n",
       "       Remote Control                                           Item URL  \n",
       "0                True  https://eg.hatla2ee.com/en/car/kia/sportage/62...  \n",
       "1                True  https://eg.hatla2ee.com/en/car/chery/Arrizo-5/...  \n",
       "2                True   https://eg.hatla2ee.com/en/car/fiat/tipo/6286701  \n",
       "3                True  https://eg.hatla2ee.com/en/car/hyundai/Tucson-...  \n",
       "4                True      https://eg.hatla2ee.com/en/car/bmw/x1/6254123  \n",
       "...               ...                                                ...  \n",
       "31734            True  https://eg.hatla2ee.com/en/car/chery/Arrizo-5/...  \n",
       "31735            True  https://eg.hatla2ee.com/en/car/nissan/sunny/62...  \n",
       "31736            True  https://eg.hatla2ee.com/en/car/brilliance/v5/6...  \n",
       "31737            True     https://eg.hatla2ee.com/en/car/bmw/320/6280982  \n",
       "31738            True  https://eg.hatla2ee.com/en/car/mercedes/c-180/...  \n",
       "\n",
       "[22052 rows x 13 columns]"
      ]
     },
     "execution_count": 21,
     "metadata": {},
     "output_type": "execute_result"
    }
   ],
   "source": [
    "data"
   ]
  },
  {
   "cell_type": "markdown",
   "metadata": {},
   "source": [
    "* ## Missing values"
   ]
  },
  {
   "cell_type": "code",
   "execution_count": 22,
   "metadata": {},
   "outputs": [
    {
     "data": {
      "text/plain": [
       "Name                         0\n",
       "Price                       71\n",
       "Color                        0\n",
       "Mileage                   1208\n",
       "Make                         0\n",
       "Model                        0\n",
       "City                         0\n",
       "Date Displayed               0\n",
       "Automatic Transmission       0\n",
       "Air Conditioner              0\n",
       "Power Steering               0\n",
       "Remote Control               0\n",
       "Item URL                     0\n",
       "dtype: int64"
      ]
     },
     "execution_count": 22,
     "metadata": {},
     "output_type": "execute_result"
    }
   ],
   "source": [
    "data.isna().sum()"
   ]
  },
  {
   "cell_type": "code",
   "execution_count": 23,
   "metadata": {},
   "outputs": [
    {
     "data": {
      "text/plain": [
       "Name                      0.000000\n",
       "Price                     0.321966\n",
       "Color                     0.000000\n",
       "Mileage                   5.477961\n",
       "Make                      0.000000\n",
       "Model                     0.000000\n",
       "City                      0.000000\n",
       "Date Displayed            0.000000\n",
       "Automatic Transmission    0.000000\n",
       "Air Conditioner           0.000000\n",
       "Power Steering            0.000000\n",
       "Remote Control            0.000000\n",
       "Item URL                  0.000000\n",
       "dtype: float64"
      ]
     },
     "execution_count": 23,
     "metadata": {},
     "output_type": "execute_result"
    }
   ],
   "source": [
    "data.isna().mean() * 100"
   ]
  },
  {
   "cell_type": "code",
   "execution_count": 24,
   "metadata": {},
   "outputs": [],
   "source": [
    "data.dropna(subset=\"Price\", inplace=True)"
   ]
  },
  {
   "cell_type": "code",
   "execution_count": 25,
   "metadata": {},
   "outputs": [
    {
     "data": {
      "text/plain": [
       "0           300.0\n",
       "2        131000.0\n",
       "3        125000.0\n",
       "4         84000.0\n",
       "5         75000.0\n",
       "           ...   \n",
       "31734         NaN\n",
       "31735      7000.0\n",
       "31736    250000.0\n",
       "31737     11000.0\n",
       "31738    135000.0\n",
       "Name: Mileage, Length: 21981, dtype: float64"
      ]
     },
     "execution_count": 25,
     "metadata": {},
     "output_type": "execute_result"
    }
   ],
   "source": [
    "data[\"Mileage\"]"
   ]
  },
  {
   "cell_type": "code",
   "execution_count": 26,
   "metadata": {},
   "outputs": [
    {
     "data": {
      "text/plain": [
       "<Axes: xlabel='Mileage', ylabel='Count'>"
      ]
     },
     "execution_count": 26,
     "metadata": {},
     "output_type": "execute_result"
    },
    {
     "data": {
      "image/png": "[encoded data removed]",
      "text/plain": [
       "<Figure size 640x480 with 1 Axes>"
      ]
     },
     "metadata": {},
     "output_type": "display_data"
    }
   ],
   "source": [
    "sns.histplot(data=data, x = \"Mileage\", kde=True)"
   ]
  },
  {
   "cell_type": "code",
   "execution_count": 27,
   "metadata": {},
   "outputs": [],
   "source": [
    "data[\"Mileage\"].fillna(data[\"Mileage\"].median(),inplace=True) # using median because the skewness of the data"
   ]
  },
  {
   "cell_type": "code",
   "execution_count": 28,
   "metadata": {},
   "outputs": [
    {
     "data": {
      "text/plain": [
       "Name                      0\n",
       "Price                     0\n",
       "Color                     0\n",
       "Mileage                   0\n",
       "Make                      0\n",
       "Model                     0\n",
       "City                      0\n",
       "Date Displayed            0\n",
       "Automatic Transmission    0\n",
       "Air Conditioner           0\n",
       "Power Steering            0\n",
       "Remote Control            0\n",
       "Item URL                  0\n",
       "dtype: int64"
      ]
     },
     "execution_count": 28,
     "metadata": {},
     "output_type": "execute_result"
    }
   ],
   "source": [
    "data.isna().sum()"
   ]
  },
  {
   "cell_type": "code",
   "execution_count": 29,
   "metadata": {},
   "outputs": [
    {
     "data": {
      "text/html": [
       "<div>\n",
       "<style scoped>\n",
       "    .dataframe tbody tr th:only-of-type {\n",
       "        vertical-align: middle;\n",
       "    }\n",
       "\n",
       "    .dataframe tbody tr th {\n",
       "        vertical-align: top;\n",
       "    }\n",
       "\n",
       "    .dataframe thead th {\n",
       "        text-align: right;\n",
       "    }\n",
       "</style>\n",
       "<table border=\"1\" class=\"dataframe\">\n",
       "  <thead>\n",
       "    <tr style=\"text-align: right;\">\n",
       "      <th></th>\n",
       "      <th>Name</th>\n",
       "      <th>Price</th>\n",
       "      <th>Color</th>\n",
       "      <th>Mileage</th>\n",
       "      <th>Make</th>\n",
       "      <th>Model</th>\n",
       "      <th>City</th>\n",
       "      <th>Date Displayed</th>\n",
       "      <th>Automatic Transmission</th>\n",
       "      <th>Air Conditioner</th>\n",
       "      <th>Power Steering</th>\n",
       "      <th>Remote Control</th>\n",
       "      <th>Item URL</th>\n",
       "    </tr>\n",
       "  </thead>\n",
       "  <tbody>\n",
       "    <tr>\n",
       "      <th>0</th>\n",
       "      <td>Kia Sportage 2024</td>\n",
       "      <td>2800000.0</td>\n",
       "      <td>Dark grey</td>\n",
       "      <td>300.0</td>\n",
       "      <td>Kia</td>\n",
       "      <td>Sportage</td>\n",
       "      <td>Tagamo3 - New Cairo</td>\n",
       "      <td>2024-02-16</td>\n",
       "      <td>True</td>\n",
       "      <td>True</td>\n",
       "      <td>True</td>\n",
       "      <td>True</td>\n",
       "      <td>https://eg.hatla2ee.com/en/car/kia/sportage/62...</td>\n",
       "    </tr>\n",
       "    <tr>\n",
       "      <th>2</th>\n",
       "      <td>Fiat Tipo 2021</td>\n",
       "      <td>1200000.0</td>\n",
       "      <td>Petroleum</td>\n",
       "      <td>131000.0</td>\n",
       "      <td>Fiat</td>\n",
       "      <td>Tipo</td>\n",
       "      <td>Kafr el-Dawwar</td>\n",
       "      <td>2024-02-16</td>\n",
       "      <td>True</td>\n",
       "      <td>True</td>\n",
       "      <td>True</td>\n",
       "      <td>True</td>\n",
       "      <td>https://eg.hatla2ee.com/en/car/fiat/tipo/6286701</td>\n",
       "    </tr>\n",
       "    <tr>\n",
       "      <th>3</th>\n",
       "      <td>Hyundai Tucson Turbo GDI 2021</td>\n",
       "      <td>2050000.0</td>\n",
       "      <td>Black</td>\n",
       "      <td>125000.0</td>\n",
       "      <td>Hyundai</td>\n",
       "      <td>Tucson Turbo GDI</td>\n",
       "      <td>Nasr city</td>\n",
       "      <td>2024-02-16</td>\n",
       "      <td>True</td>\n",
       "      <td>True</td>\n",
       "      <td>True</td>\n",
       "      <td>True</td>\n",
       "      <td>https://eg.hatla2ee.com/en/car/hyundai/Tucson-...</td>\n",
       "    </tr>\n",
       "    <tr>\n",
       "      <th>4</th>\n",
       "      <td>BMW X1 2018</td>\n",
       "      <td>2050000.0</td>\n",
       "      <td>Gray</td>\n",
       "      <td>84000.0</td>\n",
       "      <td>BMW</td>\n",
       "      <td>X1</td>\n",
       "      <td>Cairo</td>\n",
       "      <td>2024-02-16</td>\n",
       "      <td>True</td>\n",
       "      <td>True</td>\n",
       "      <td>True</td>\n",
       "      <td>True</td>\n",
       "      <td>https://eg.hatla2ee.com/en/car/bmw/x1/6254123</td>\n",
       "    </tr>\n",
       "    <tr>\n",
       "      <th>5</th>\n",
       "      <td>Chevrolet Optra 2021</td>\n",
       "      <td>700000.0</td>\n",
       "      <td>Blue</td>\n",
       "      <td>75000.0</td>\n",
       "      <td>Chevrolet</td>\n",
       "      <td>Optra</td>\n",
       "      <td>Obour City</td>\n",
       "      <td>2024-02-16</td>\n",
       "      <td>True</td>\n",
       "      <td>True</td>\n",
       "      <td>True</td>\n",
       "      <td>True</td>\n",
       "      <td>https://eg.hatla2ee.com/en/car/chevrolet/optra...</td>\n",
       "    </tr>\n",
       "  </tbody>\n",
       "</table>\n",
       "</div>"
      ],
      "text/plain": [
       "                            Name      Price      Color   Mileage       Make  \\\n",
       "0              Kia Sportage 2024  2800000.0  Dark grey     300.0        Kia   \n",
       "2                 Fiat Tipo 2021  1200000.0  Petroleum  131000.0       Fiat   \n",
       "3  Hyundai Tucson Turbo GDI 2021  2050000.0      Black  125000.0    Hyundai   \n",
       "4                    BMW X1 2018  2050000.0       Gray   84000.0        BMW   \n",
       "5           Chevrolet Optra 2021   700000.0       Blue   75000.0  Chevrolet   \n",
       "\n",
       "              Model                 City Date Displayed  \\\n",
       "0          Sportage  Tagamo3 - New Cairo     2024-02-16   \n",
       "2              Tipo       Kafr el-Dawwar     2024-02-16   \n",
       "3  Tucson Turbo GDI            Nasr city     2024-02-16   \n",
       "4                X1                Cairo     2024-02-16   \n",
       "5             Optra           Obour City     2024-02-16   \n",
       "\n",
       "   Automatic Transmission  Air Conditioner  Power Steering  Remote Control  \\\n",
       "0                    True             True            True            True   \n",
       "2                    True             True            True            True   \n",
       "3                    True             True            True            True   \n",
       "4                    True             True            True            True   \n",
       "5                    True             True            True            True   \n",
       "\n",
       "                                            Item URL  \n",
       "0  https://eg.hatla2ee.com/en/car/kia/sportage/62...  \n",
       "2   https://eg.hatla2ee.com/en/car/fiat/tipo/6286701  \n",
       "3  https://eg.hatla2ee.com/en/car/hyundai/Tucson-...  \n",
       "4      https://eg.hatla2ee.com/en/car/bmw/x1/6254123  \n",
       "5  https://eg.hatla2ee.com/en/car/chevrolet/optra...  "
      ]
     },
     "execution_count": 29,
     "metadata": {},
     "output_type": "execute_result"
    }
   ],
   "source": [
    "data.head()"
   ]
  },
  {
   "cell_type": "markdown",
   "metadata": {},
   "source": [
    "* ## Categorical Data"
   ]
  },
  {
   "cell_type": "code",
   "execution_count": 30,
   "metadata": {},
   "outputs": [],
   "source": [
    "data.drop([\"Item URL\",\"City\"],axis=1,inplace=True)"
   ]
  },
  {
   "cell_type": "code",
   "execution_count": 31,
   "metadata": {},
   "outputs": [
    {
     "data": {
      "text/html": [
       "<div>\n",
       "<style scoped>\n",
       "    .dataframe tbody tr th:only-of-type {\n",
       "        vertical-align: middle;\n",
       "    }\n",
       "\n",
       "    .dataframe tbody tr th {\n",
       "        vertical-align: top;\n",
       "    }\n",
       "\n",
       "    .dataframe thead th {\n",
       "        text-align: right;\n",
       "    }\n",
       "</style>\n",
       "<table border=\"1\" class=\"dataframe\">\n",
       "  <thead>\n",
       "    <tr style=\"text-align: right;\">\n",
       "      <th></th>\n",
       "      <th>Name</th>\n",
       "      <th>Price</th>\n",
       "      <th>Color</th>\n",
       "      <th>Mileage</th>\n",
       "      <th>Make</th>\n",
       "      <th>Model</th>\n",
       "      <th>Date Displayed</th>\n",
       "      <th>Automatic Transmission</th>\n",
       "      <th>Air Conditioner</th>\n",
       "      <th>Power Steering</th>\n",
       "      <th>Remote Control</th>\n",
       "    </tr>\n",
       "  </thead>\n",
       "  <tbody>\n",
       "    <tr>\n",
       "      <th>0</th>\n",
       "      <td>Kia Sportage 2024</td>\n",
       "      <td>2800000.0</td>\n",
       "      <td>Dark grey</td>\n",
       "      <td>300.0</td>\n",
       "      <td>Kia</td>\n",
       "      <td>Sportage</td>\n",
       "      <td>2024-02-16</td>\n",
       "      <td>True</td>\n",
       "      <td>True</td>\n",
       "      <td>True</td>\n",
       "      <td>True</td>\n",
       "    </tr>\n",
       "    <tr>\n",
       "      <th>2</th>\n",
       "      <td>Fiat Tipo 2021</td>\n",
       "      <td>1200000.0</td>\n",
       "      <td>Petroleum</td>\n",
       "      <td>131000.0</td>\n",
       "      <td>Fiat</td>\n",
       "      <td>Tipo</td>\n",
       "      <td>2024-02-16</td>\n",
       "      <td>True</td>\n",
       "      <td>True</td>\n",
       "      <td>True</td>\n",
       "      <td>True</td>\n",
       "    </tr>\n",
       "    <tr>\n",
       "      <th>3</th>\n",
       "      <td>Hyundai Tucson Turbo GDI 2021</td>\n",
       "      <td>2050000.0</td>\n",
       "      <td>Black</td>\n",
       "      <td>125000.0</td>\n",
       "      <td>Hyundai</td>\n",
       "      <td>Tucson Turbo GDI</td>\n",
       "      <td>2024-02-16</td>\n",
       "      <td>True</td>\n",
       "      <td>True</td>\n",
       "      <td>True</td>\n",
       "      <td>True</td>\n",
       "    </tr>\n",
       "    <tr>\n",
       "      <th>4</th>\n",
       "      <td>BMW X1 2018</td>\n",
       "      <td>2050000.0</td>\n",
       "      <td>Gray</td>\n",
       "      <td>84000.0</td>\n",
       "      <td>BMW</td>\n",
       "      <td>X1</td>\n",
       "      <td>2024-02-16</td>\n",
       "      <td>True</td>\n",
       "      <td>True</td>\n",
       "      <td>True</td>\n",
       "      <td>True</td>\n",
       "    </tr>\n",
       "    <tr>\n",
       "      <th>5</th>\n",
       "      <td>Chevrolet Optra 2021</td>\n",
       "      <td>700000.0</td>\n",
       "      <td>Blue</td>\n",
       "      <td>75000.0</td>\n",
       "      <td>Chevrolet</td>\n",
       "      <td>Optra</td>\n",
       "      <td>2024-02-16</td>\n",
       "      <td>True</td>\n",
       "      <td>True</td>\n",
       "      <td>True</td>\n",
       "      <td>True</td>\n",
       "    </tr>\n",
       "  </tbody>\n",
       "</table>\n",
       "</div>"
      ],
      "text/plain": [
       "                            Name      Price      Color   Mileage       Make  \\\n",
       "0              Kia Sportage 2024  2800000.0  Dark grey     300.0        Kia   \n",
       "2                 Fiat Tipo 2021  1200000.0  Petroleum  131000.0       Fiat   \n",
       "3  Hyundai Tucson Turbo GDI 2021  2050000.0      Black  125000.0    Hyundai   \n",
       "4                    BMW X1 2018  2050000.0       Gray   84000.0        BMW   \n",
       "5           Chevrolet Optra 2021   700000.0       Blue   75000.0  Chevrolet   \n",
       "\n",
       "              Model Date Displayed  Automatic Transmission  Air Conditioner  \\\n",
       "0          Sportage     2024-02-16                    True             True   \n",
       "2              Tipo     2024-02-16                    True             True   \n",
       "3  Tucson Turbo GDI     2024-02-16                    True             True   \n",
       "4                X1     2024-02-16                    True             True   \n",
       "5             Optra     2024-02-16                    True             True   \n",
       "\n",
       "   Power Steering  Remote Control  \n",
       "0            True            True  \n",
       "2            True            True  \n",
       "3            True            True  \n",
       "4            True            True  \n",
       "5            True            True  "
      ]
     },
     "execution_count": 31,
     "metadata": {},
     "output_type": "execute_result"
    }
   ],
   "source": [
    "data.head()"
   ]
  },
  {
   "cell_type": "code",
   "execution_count": 32,
   "metadata": {},
   "outputs": [],
   "source": [
    "data[\"Made_year\"] = data[\"Name\"].apply(lambda x:x.split()[-1])"
   ]
  },
  {
   "cell_type": "code",
   "execution_count": 33,
   "metadata": {},
   "outputs": [],
   "source": [
    "data.drop(data[data[\"Made_year\"] == '0'].index,inplace=True)"
   ]
  },
  {
   "cell_type": "code",
   "execution_count": 34,
   "metadata": {},
   "outputs": [],
   "source": [
    "data[\"Made_year\"] = data[\"Made_year\"].astype(\"int\")"
   ]
  },
  {
   "cell_type": "code",
   "execution_count": 35,
   "metadata": {},
   "outputs": [
    {
     "data": {
      "text/html": [
       "<div>\n",
       "<style scoped>\n",
       "    .dataframe tbody tr th:only-of-type {\n",
       "        vertical-align: middle;\n",
       "    }\n",
       "\n",
       "    .dataframe tbody tr th {\n",
       "        vertical-align: top;\n",
       "    }\n",
       "\n",
       "    .dataframe thead th {\n",
       "        text-align: right;\n",
       "    }\n",
       "</style>\n",
       "<table border=\"1\" class=\"dataframe\">\n",
       "  <thead>\n",
       "    <tr style=\"text-align: right;\">\n",
       "      <th></th>\n",
       "      <th>Name</th>\n",
       "      <th>Price</th>\n",
       "      <th>Color</th>\n",
       "      <th>Mileage</th>\n",
       "      <th>Make</th>\n",
       "      <th>Model</th>\n",
       "      <th>Date Displayed</th>\n",
       "      <th>Automatic Transmission</th>\n",
       "      <th>Air Conditioner</th>\n",
       "      <th>Power Steering</th>\n",
       "      <th>Remote Control</th>\n",
       "      <th>Made_year</th>\n",
       "    </tr>\n",
       "  </thead>\n",
       "  <tbody>\n",
       "    <tr>\n",
       "      <th>0</th>\n",
       "      <td>Kia Sportage 2024</td>\n",
       "      <td>2800000.0</td>\n",
       "      <td>Dark grey</td>\n",
       "      <td>300.0</td>\n",
       "      <td>Kia</td>\n",
       "      <td>Sportage</td>\n",
       "      <td>2024-02-16</td>\n",
       "      <td>True</td>\n",
       "      <td>True</td>\n",
       "      <td>True</td>\n",
       "      <td>True</td>\n",
       "      <td>2024</td>\n",
       "    </tr>\n",
       "    <tr>\n",
       "      <th>2</th>\n",
       "      <td>Fiat Tipo 2021</td>\n",
       "      <td>1200000.0</td>\n",
       "      <td>Petroleum</td>\n",
       "      <td>131000.0</td>\n",
       "      <td>Fiat</td>\n",
       "      <td>Tipo</td>\n",
       "      <td>2024-02-16</td>\n",
       "      <td>True</td>\n",
       "      <td>True</td>\n",
       "      <td>True</td>\n",
       "      <td>True</td>\n",
       "      <td>2021</td>\n",
       "    </tr>\n",
       "    <tr>\n",
       "      <th>3</th>\n",
       "      <td>Hyundai Tucson Turbo GDI 2021</td>\n",
       "      <td>2050000.0</td>\n",
       "      <td>Black</td>\n",
       "      <td>125000.0</td>\n",
       "      <td>Hyundai</td>\n",
       "      <td>Tucson Turbo GDI</td>\n",
       "      <td>2024-02-16</td>\n",
       "      <td>True</td>\n",
       "      <td>True</td>\n",
       "      <td>True</td>\n",
       "      <td>True</td>\n",
       "      <td>2021</td>\n",
       "    </tr>\n",
       "    <tr>\n",
       "      <th>4</th>\n",
       "      <td>BMW X1 2018</td>\n",
       "      <td>2050000.0</td>\n",
       "      <td>Gray</td>\n",
       "      <td>84000.0</td>\n",
       "      <td>BMW</td>\n",
       "      <td>X1</td>\n",
       "      <td>2024-02-16</td>\n",
       "      <td>True</td>\n",
       "      <td>True</td>\n",
       "      <td>True</td>\n",
       "      <td>True</td>\n",
       "      <td>2018</td>\n",
       "    </tr>\n",
       "    <tr>\n",
       "      <th>5</th>\n",
       "      <td>Chevrolet Optra 2021</td>\n",
       "      <td>700000.0</td>\n",
       "      <td>Blue</td>\n",
       "      <td>75000.0</td>\n",
       "      <td>Chevrolet</td>\n",
       "      <td>Optra</td>\n",
       "      <td>2024-02-16</td>\n",
       "      <td>True</td>\n",
       "      <td>True</td>\n",
       "      <td>True</td>\n",
       "      <td>True</td>\n",
       "      <td>2021</td>\n",
       "    </tr>\n",
       "  </tbody>\n",
       "</table>\n",
       "</div>"
      ],
      "text/plain": [
       "                            Name      Price      Color   Mileage       Make  \\\n",
       "0              Kia Sportage 2024  2800000.0  Dark grey     300.0        Kia   \n",
       "2                 Fiat Tipo 2021  1200000.0  Petroleum  131000.0       Fiat   \n",
       "3  Hyundai Tucson Turbo GDI 2021  2050000.0      Black  125000.0    Hyundai   \n",
       "4                    BMW X1 2018  2050000.0       Gray   84000.0        BMW   \n",
       "5           Chevrolet Optra 2021   700000.0       Blue   75000.0  Chevrolet   \n",
       "\n",
       "              Model Date Displayed  Automatic Transmission  Air Conditioner  \\\n",
       "0          Sportage     2024-02-16                    True             True   \n",
       "2              Tipo     2024-02-16                    True             True   \n",
       "3  Tucson Turbo GDI     2024-02-16                    True             True   \n",
       "4                X1     2024-02-16                    True             True   \n",
       "5             Optra     2024-02-16                    True             True   \n",
       "\n",
       "   Power Steering  Remote Control  Made_year  \n",
       "0            True            True       2024  \n",
       "2            True            True       2021  \n",
       "3            True            True       2021  \n",
       "4            True            True       2018  \n",
       "5            True            True       2021  "
      ]
     },
     "execution_count": 35,
     "metadata": {},
     "output_type": "execute_result"
    }
   ],
   "source": [
    "data.head()"
   ]
  },
  {
   "cell_type": "code",
   "execution_count": 36,
   "metadata": {},
   "outputs": [],
   "source": [
    "data[\"Date Displayed\"] = data[\"Date Displayed\"].apply(lambda x:x[:4])"
   ]
  },
  {
   "cell_type": "code",
   "execution_count": 37,
   "metadata": {},
   "outputs": [
    {
     "data": {
      "text/plain": [
       "array(['2024', '2023'], dtype=object)"
      ]
     },
     "execution_count": 37,
     "metadata": {},
     "output_type": "execute_result"
    }
   ],
   "source": [
    "data[\"Date Displayed\"].unique()"
   ]
  },
  {
   "cell_type": "code",
   "execution_count": 38,
   "metadata": {},
   "outputs": [],
   "source": [
    "data[\"Date Displayed\"] = data[\"Date Displayed\"].astype(\"int\")"
   ]
  },
  {
   "cell_type": "code",
   "execution_count": 39,
   "metadata": {},
   "outputs": [
    {
     "data": {
      "text/plain": [
       "0         0\n",
       "2         3\n",
       "3         3\n",
       "4         6\n",
       "5         3\n",
       "         ..\n",
       "31734     4\n",
       "31735     0\n",
       "31736    11\n",
       "31737     1\n",
       "31738    15\n",
       "Name: Years_of_usage, Length: 21980, dtype: int64"
      ]
     },
     "execution_count": 39,
     "metadata": {},
     "output_type": "execute_result"
    }
   ],
   "source": [
    "data[\"Years_of_usage\"] = data[\"Date Displayed\"] - data[\"Made_year\"]\n",
    "data[\"Years_of_usage\"]"
   ]
  },
  {
   "cell_type": "code",
   "execution_count": 40,
   "metadata": {},
   "outputs": [
    {
     "data": {
      "text/html": [
       "<div>\n",
       "<style scoped>\n",
       "    .dataframe tbody tr th:only-of-type {\n",
       "        vertical-align: middle;\n",
       "    }\n",
       "\n",
       "    .dataframe tbody tr th {\n",
       "        vertical-align: top;\n",
       "    }\n",
       "\n",
       "    .dataframe thead th {\n",
       "        text-align: right;\n",
       "    }\n",
       "</style>\n",
       "<table border=\"1\" class=\"dataframe\">\n",
       "  <thead>\n",
       "    <tr style=\"text-align: right;\">\n",
       "      <th></th>\n",
       "      <th>Name</th>\n",
       "      <th>Price</th>\n",
       "      <th>Color</th>\n",
       "      <th>Mileage</th>\n",
       "      <th>Make</th>\n",
       "      <th>Model</th>\n",
       "      <th>Date Displayed</th>\n",
       "      <th>Automatic Transmission</th>\n",
       "      <th>Air Conditioner</th>\n",
       "      <th>Power Steering</th>\n",
       "      <th>Remote Control</th>\n",
       "      <th>Made_year</th>\n",
       "      <th>Years_of_usage</th>\n",
       "    </tr>\n",
       "  </thead>\n",
       "  <tbody>\n",
       "    <tr>\n",
       "      <th>6636</th>\n",
       "      <td>Geely GX3 Pro 2024</td>\n",
       "      <td>1050000.0</td>\n",
       "      <td>Red</td>\n",
       "      <td>12.0</td>\n",
       "      <td>Geely</td>\n",
       "      <td>GX3 Pro</td>\n",
       "      <td>2023</td>\n",
       "      <td>True</td>\n",
       "      <td>True</td>\n",
       "      <td>True</td>\n",
       "      <td>True</td>\n",
       "      <td>2024</td>\n",
       "      <td>-1</td>\n",
       "    </tr>\n",
       "    <tr>\n",
       "      <th>8340</th>\n",
       "      <td>Toyota Fortuner 2024</td>\n",
       "      <td>4100000.0</td>\n",
       "      <td>Silver</td>\n",
       "      <td>10000.0</td>\n",
       "      <td>Toyota</td>\n",
       "      <td>Fortuner</td>\n",
       "      <td>2023</td>\n",
       "      <td>False</td>\n",
       "      <td>False</td>\n",
       "      <td>False</td>\n",
       "      <td>False</td>\n",
       "      <td>2024</td>\n",
       "      <td>-1</td>\n",
       "    </tr>\n",
       "    <tr>\n",
       "      <th>8495</th>\n",
       "      <td>Suzuki Swift 2024</td>\n",
       "      <td>253500.0</td>\n",
       "      <td>White</td>\n",
       "      <td>0.0</td>\n",
       "      <td>Suzuki</td>\n",
       "      <td>Swift</td>\n",
       "      <td>2023</td>\n",
       "      <td>False</td>\n",
       "      <td>False</td>\n",
       "      <td>False</td>\n",
       "      <td>False</td>\n",
       "      <td>2024</td>\n",
       "      <td>-1</td>\n",
       "    </tr>\n",
       "    <tr>\n",
       "      <th>8497</th>\n",
       "      <td>Suzuki Celerio 2024</td>\n",
       "      <td>232500.0</td>\n",
       "      <td>Blue</td>\n",
       "      <td>0.0</td>\n",
       "      <td>Suzuki</td>\n",
       "      <td>Celerio</td>\n",
       "      <td>2023</td>\n",
       "      <td>False</td>\n",
       "      <td>False</td>\n",
       "      <td>False</td>\n",
       "      <td>False</td>\n",
       "      <td>2024</td>\n",
       "      <td>-1</td>\n",
       "    </tr>\n",
       "    <tr>\n",
       "      <th>8536</th>\n",
       "      <td>Chery Tiggo 3 2024</td>\n",
       "      <td>1250000.0</td>\n",
       "      <td>Dark red</td>\n",
       "      <td>10000.0</td>\n",
       "      <td>Chery</td>\n",
       "      <td>Tiggo 3</td>\n",
       "      <td>2023</td>\n",
       "      <td>True</td>\n",
       "      <td>True</td>\n",
       "      <td>True</td>\n",
       "      <td>True</td>\n",
       "      <td>2024</td>\n",
       "      <td>-1</td>\n",
       "    </tr>\n",
       "    <tr>\n",
       "      <th>...</th>\n",
       "      <td>...</td>\n",
       "      <td>...</td>\n",
       "      <td>...</td>\n",
       "      <td>...</td>\n",
       "      <td>...</td>\n",
       "      <td>...</td>\n",
       "      <td>...</td>\n",
       "      <td>...</td>\n",
       "      <td>...</td>\n",
       "      <td>...</td>\n",
       "      <td>...</td>\n",
       "      <td>...</td>\n",
       "      <td>...</td>\n",
       "    </tr>\n",
       "    <tr>\n",
       "      <th>21019</th>\n",
       "      <td>MG ZS 2024</td>\n",
       "      <td>990000.0</td>\n",
       "      <td>Red</td>\n",
       "      <td>127000.0</td>\n",
       "      <td>MG</td>\n",
       "      <td>ZS</td>\n",
       "      <td>2023</td>\n",
       "      <td>False</td>\n",
       "      <td>False</td>\n",
       "      <td>False</td>\n",
       "      <td>False</td>\n",
       "      <td>2024</td>\n",
       "      <td>-1</td>\n",
       "    </tr>\n",
       "    <tr>\n",
       "      <th>21128</th>\n",
       "      <td>BMW X3 2024</td>\n",
       "      <td>4500000.0</td>\n",
       "      <td>Blue</td>\n",
       "      <td>127000.0</td>\n",
       "      <td>BMW</td>\n",
       "      <td>X3</td>\n",
       "      <td>2023</td>\n",
       "      <td>True</td>\n",
       "      <td>True</td>\n",
       "      <td>True</td>\n",
       "      <td>True</td>\n",
       "      <td>2024</td>\n",
       "      <td>-1</td>\n",
       "    </tr>\n",
       "    <tr>\n",
       "      <th>21454</th>\n",
       "      <td>Hyundai Accent RB 2024</td>\n",
       "      <td>1130000.0</td>\n",
       "      <td>Silver</td>\n",
       "      <td>15000.0</td>\n",
       "      <td>Hyundai</td>\n",
       "      <td>Accent RB</td>\n",
       "      <td>2023</td>\n",
       "      <td>True</td>\n",
       "      <td>True</td>\n",
       "      <td>True</td>\n",
       "      <td>True</td>\n",
       "      <td>2024</td>\n",
       "      <td>-1</td>\n",
       "    </tr>\n",
       "    <tr>\n",
       "      <th>21701</th>\n",
       "      <td>Kia Sportage 2024</td>\n",
       "      <td>2150000.0</td>\n",
       "      <td>Black</td>\n",
       "      <td>1000.0</td>\n",
       "      <td>Kia</td>\n",
       "      <td>Sportage</td>\n",
       "      <td>2023</td>\n",
       "      <td>True</td>\n",
       "      <td>True</td>\n",
       "      <td>True</td>\n",
       "      <td>True</td>\n",
       "      <td>2024</td>\n",
       "      <td>-1</td>\n",
       "    </tr>\n",
       "    <tr>\n",
       "      <th>21884</th>\n",
       "      <td>BMW X1 2024</td>\n",
       "      <td>3200000.0</td>\n",
       "      <td>Silver</td>\n",
       "      <td>10.0</td>\n",
       "      <td>BMW</td>\n",
       "      <td>X1</td>\n",
       "      <td>2023</td>\n",
       "      <td>True</td>\n",
       "      <td>True</td>\n",
       "      <td>True</td>\n",
       "      <td>True</td>\n",
       "      <td>2024</td>\n",
       "      <td>-1</td>\n",
       "    </tr>\n",
       "  </tbody>\n",
       "</table>\n",
       "<p>127 rows × 13 columns</p>\n",
       "</div>"
      ],
      "text/plain": [
       "                         Name      Price     Color   Mileage     Make  \\\n",
       "6636       Geely GX3 Pro 2024  1050000.0       Red      12.0    Geely   \n",
       "8340     Toyota Fortuner 2024  4100000.0    Silver   10000.0   Toyota   \n",
       "8495        Suzuki Swift 2024   253500.0     White       0.0   Suzuki   \n",
       "8497      Suzuki Celerio 2024   232500.0      Blue       0.0   Suzuki   \n",
       "8536       Chery Tiggo 3 2024  1250000.0  Dark red   10000.0    Chery   \n",
       "...                       ...        ...       ...       ...      ...   \n",
       "21019              MG ZS 2024   990000.0       Red  127000.0       MG   \n",
       "21128             BMW X3 2024  4500000.0      Blue  127000.0      BMW   \n",
       "21454  Hyundai Accent RB 2024  1130000.0    Silver   15000.0  Hyundai   \n",
       "21701       Kia Sportage 2024  2150000.0     Black    1000.0      Kia   \n",
       "21884             BMW X1 2024  3200000.0    Silver      10.0      BMW   \n",
       "\n",
       "           Model  Date Displayed  Automatic Transmission  Air Conditioner  \\\n",
       "6636     GX3 Pro            2023                    True             True   \n",
       "8340    Fortuner            2023                   False            False   \n",
       "8495       Swift            2023                   False            False   \n",
       "8497     Celerio            2023                   False            False   \n",
       "8536     Tiggo 3            2023                    True             True   \n",
       "...          ...             ...                     ...              ...   \n",
       "21019         ZS            2023                   False            False   \n",
       "21128         X3            2023                    True             True   \n",
       "21454  Accent RB            2023                    True             True   \n",
       "21701   Sportage            2023                    True             True   \n",
       "21884         X1            2023                    True             True   \n",
       "\n",
       "       Power Steering  Remote Control  Made_year  Years_of_usage  \n",
       "6636             True            True       2024              -1  \n",
       "8340            False           False       2024              -1  \n",
       "8495            False           False       2024              -1  \n",
       "8497            False           False       2024              -1  \n",
       "8536             True            True       2024              -1  \n",
       "...               ...             ...        ...             ...  \n",
       "21019           False           False       2024              -1  \n",
       "21128            True            True       2024              -1  \n",
       "21454            True            True       2024              -1  \n",
       "21701            True            True       2024              -1  \n",
       "21884            True            True       2024              -1  \n",
       "\n",
       "[127 rows x 13 columns]"
      ]
     },
     "execution_count": 40,
     "metadata": {},
     "output_type": "execute_result"
    }
   ],
   "source": [
    "data[data[\"Years_of_usage\"] < 0]"
   ]
  },
  {
   "cell_type": "code",
   "execution_count": 41,
   "metadata": {},
   "outputs": [],
   "source": [
    "data[\"Years_of_usage\"].replace({-1:0}, inplace=True)"
   ]
  },
  {
   "cell_type": "code",
   "execution_count": 42,
   "metadata": {},
   "outputs": [
    {
     "data": {
      "text/html": [
       "<div>\n",
       "<style scoped>\n",
       "    .dataframe tbody tr th:only-of-type {\n",
       "        vertical-align: middle;\n",
       "    }\n",
       "\n",
       "    .dataframe tbody tr th {\n",
       "        vertical-align: top;\n",
       "    }\n",
       "\n",
       "    .dataframe thead th {\n",
       "        text-align: right;\n",
       "    }\n",
       "</style>\n",
       "<table border=\"1\" class=\"dataframe\">\n",
       "  <thead>\n",
       "    <tr style=\"text-align: right;\">\n",
       "      <th></th>\n",
       "      <th>Name</th>\n",
       "      <th>Price</th>\n",
       "      <th>Color</th>\n",
       "      <th>Mileage</th>\n",
       "      <th>Make</th>\n",
       "      <th>Model</th>\n",
       "      <th>Date Displayed</th>\n",
       "      <th>Automatic Transmission</th>\n",
       "      <th>Air Conditioner</th>\n",
       "      <th>Power Steering</th>\n",
       "      <th>Remote Control</th>\n",
       "      <th>Made_year</th>\n",
       "      <th>Years_of_usage</th>\n",
       "    </tr>\n",
       "  </thead>\n",
       "  <tbody>\n",
       "  </tbody>\n",
       "</table>\n",
       "</div>"
      ],
      "text/plain": [
       "Empty DataFrame\n",
       "Columns: [Name, Price, Color, Mileage, Make, Model, Date Displayed, Automatic Transmission, Air Conditioner, Power Steering, Remote Control, Made_year, Years_of_usage]\n",
       "Index: []"
      ]
     },
     "execution_count": 42,
     "metadata": {},
     "output_type": "execute_result"
    }
   ],
   "source": [
    "data[data[\"Years_of_usage\"] < 0]"
   ]
  },
  {
   "cell_type": "code",
   "execution_count": 43,
   "metadata": {},
   "outputs": [
    {
     "data": {
      "text/html": [
       "<div>\n",
       "<style scoped>\n",
       "    .dataframe tbody tr th:only-of-type {\n",
       "        vertical-align: middle;\n",
       "    }\n",
       "\n",
       "    .dataframe tbody tr th {\n",
       "        vertical-align: top;\n",
       "    }\n",
       "\n",
       "    .dataframe thead th {\n",
       "        text-align: right;\n",
       "    }\n",
       "</style>\n",
       "<table border=\"1\" class=\"dataframe\">\n",
       "  <thead>\n",
       "    <tr style=\"text-align: right;\">\n",
       "      <th></th>\n",
       "      <th>Name</th>\n",
       "      <th>Price</th>\n",
       "      <th>Color</th>\n",
       "      <th>Mileage</th>\n",
       "      <th>Make</th>\n",
       "      <th>Model</th>\n",
       "      <th>Date Displayed</th>\n",
       "      <th>Automatic Transmission</th>\n",
       "      <th>Air Conditioner</th>\n",
       "      <th>Power Steering</th>\n",
       "      <th>Remote Control</th>\n",
       "      <th>Made_year</th>\n",
       "      <th>Years_of_usage</th>\n",
       "    </tr>\n",
       "  </thead>\n",
       "  <tbody>\n",
       "    <tr>\n",
       "      <th>0</th>\n",
       "      <td>Kia Sportage 2024</td>\n",
       "      <td>2800000.0</td>\n",
       "      <td>Dark grey</td>\n",
       "      <td>300.0</td>\n",
       "      <td>Kia</td>\n",
       "      <td>Sportage</td>\n",
       "      <td>2024</td>\n",
       "      <td>True</td>\n",
       "      <td>True</td>\n",
       "      <td>True</td>\n",
       "      <td>True</td>\n",
       "      <td>2024</td>\n",
       "      <td>0</td>\n",
       "    </tr>\n",
       "    <tr>\n",
       "      <th>2</th>\n",
       "      <td>Fiat Tipo 2021</td>\n",
       "      <td>1200000.0</td>\n",
       "      <td>Petroleum</td>\n",
       "      <td>131000.0</td>\n",
       "      <td>Fiat</td>\n",
       "      <td>Tipo</td>\n",
       "      <td>2024</td>\n",
       "      <td>True</td>\n",
       "      <td>True</td>\n",
       "      <td>True</td>\n",
       "      <td>True</td>\n",
       "      <td>2021</td>\n",
       "      <td>3</td>\n",
       "    </tr>\n",
       "    <tr>\n",
       "      <th>3</th>\n",
       "      <td>Hyundai Tucson Turbo GDI 2021</td>\n",
       "      <td>2050000.0</td>\n",
       "      <td>Black</td>\n",
       "      <td>125000.0</td>\n",
       "      <td>Hyundai</td>\n",
       "      <td>Tucson Turbo GDI</td>\n",
       "      <td>2024</td>\n",
       "      <td>True</td>\n",
       "      <td>True</td>\n",
       "      <td>True</td>\n",
       "      <td>True</td>\n",
       "      <td>2021</td>\n",
       "      <td>3</td>\n",
       "    </tr>\n",
       "    <tr>\n",
       "      <th>4</th>\n",
       "      <td>BMW X1 2018</td>\n",
       "      <td>2050000.0</td>\n",
       "      <td>Gray</td>\n",
       "      <td>84000.0</td>\n",
       "      <td>BMW</td>\n",
       "      <td>X1</td>\n",
       "      <td>2024</td>\n",
       "      <td>True</td>\n",
       "      <td>True</td>\n",
       "      <td>True</td>\n",
       "      <td>True</td>\n",
       "      <td>2018</td>\n",
       "      <td>6</td>\n",
       "    </tr>\n",
       "    <tr>\n",
       "      <th>5</th>\n",
       "      <td>Chevrolet Optra 2021</td>\n",
       "      <td>700000.0</td>\n",
       "      <td>Blue</td>\n",
       "      <td>75000.0</td>\n",
       "      <td>Chevrolet</td>\n",
       "      <td>Optra</td>\n",
       "      <td>2024</td>\n",
       "      <td>True</td>\n",
       "      <td>True</td>\n",
       "      <td>True</td>\n",
       "      <td>True</td>\n",
       "      <td>2021</td>\n",
       "      <td>3</td>\n",
       "    </tr>\n",
       "  </tbody>\n",
       "</table>\n",
       "</div>"
      ],
      "text/plain": [
       "                            Name      Price      Color   Mileage       Make  \\\n",
       "0              Kia Sportage 2024  2800000.0  Dark grey     300.0        Kia   \n",
       "2                 Fiat Tipo 2021  1200000.0  Petroleum  131000.0       Fiat   \n",
       "3  Hyundai Tucson Turbo GDI 2021  2050000.0      Black  125000.0    Hyundai   \n",
       "4                    BMW X1 2018  2050000.0       Gray   84000.0        BMW   \n",
       "5           Chevrolet Optra 2021   700000.0       Blue   75000.0  Chevrolet   \n",
       "\n",
       "              Model  Date Displayed  Automatic Transmission  Air Conditioner  \\\n",
       "0          Sportage            2024                    True             True   \n",
       "2              Tipo            2024                    True             True   \n",
       "3  Tucson Turbo GDI            2024                    True             True   \n",
       "4                X1            2024                    True             True   \n",
       "5             Optra            2024                    True             True   \n",
       "\n",
       "   Power Steering  Remote Control  Made_year  Years_of_usage  \n",
       "0            True            True       2024               0  \n",
       "2            True            True       2021               3  \n",
       "3            True            True       2021               3  \n",
       "4            True            True       2018               6  \n",
       "5            True            True       2021               3  "
      ]
     },
     "execution_count": 43,
     "metadata": {},
     "output_type": "execute_result"
    }
   ],
   "source": [
    "data.head()"
   ]
  },
  {
   "cell_type": "code",
   "execution_count": 44,
   "metadata": {},
   "outputs": [
    {
     "data": {
      "text/html": [
       "<div>\n",
       "<style scoped>\n",
       "    .dataframe tbody tr th:only-of-type {\n",
       "        vertical-align: middle;\n",
       "    }\n",
       "\n",
       "    .dataframe tbody tr th {\n",
       "        vertical-align: top;\n",
       "    }\n",
       "\n",
       "    .dataframe thead th {\n",
       "        text-align: right;\n",
       "    }\n",
       "</style>\n",
       "<table border=\"1\" class=\"dataframe\">\n",
       "  <thead>\n",
       "    <tr style=\"text-align: right;\">\n",
       "      <th></th>\n",
       "      <th>Price</th>\n",
       "      <th>Mileage</th>\n",
       "      <th>Make</th>\n",
       "      <th>Model</th>\n",
       "      <th>Automatic Transmission</th>\n",
       "      <th>Air Conditioner</th>\n",
       "      <th>Power Steering</th>\n",
       "      <th>Remote Control</th>\n",
       "      <th>Years_of_usage</th>\n",
       "    </tr>\n",
       "  </thead>\n",
       "  <tbody>\n",
       "    <tr>\n",
       "      <th>0</th>\n",
       "      <td>2800000.0</td>\n",
       "      <td>300.0</td>\n",
       "      <td>Kia</td>\n",
       "      <td>Sportage</td>\n",
       "      <td>True</td>\n",
       "      <td>True</td>\n",
       "      <td>True</td>\n",
       "      <td>True</td>\n",
       "      <td>0</td>\n",
       "    </tr>\n",
       "    <tr>\n",
       "      <th>2</th>\n",
       "      <td>1200000.0</td>\n",
       "      <td>131000.0</td>\n",
       "      <td>Fiat</td>\n",
       "      <td>Tipo</td>\n",
       "      <td>True</td>\n",
       "      <td>True</td>\n",
       "      <td>True</td>\n",
       "      <td>True</td>\n",
       "      <td>3</td>\n",
       "    </tr>\n",
       "    <tr>\n",
       "      <th>3</th>\n",
       "      <td>2050000.0</td>\n",
       "      <td>125000.0</td>\n",
       "      <td>Hyundai</td>\n",
       "      <td>Tucson Turbo GDI</td>\n",
       "      <td>True</td>\n",
       "      <td>True</td>\n",
       "      <td>True</td>\n",
       "      <td>True</td>\n",
       "      <td>3</td>\n",
       "    </tr>\n",
       "    <tr>\n",
       "      <th>4</th>\n",
       "      <td>2050000.0</td>\n",
       "      <td>84000.0</td>\n",
       "      <td>BMW</td>\n",
       "      <td>X1</td>\n",
       "      <td>True</td>\n",
       "      <td>True</td>\n",
       "      <td>True</td>\n",
       "      <td>True</td>\n",
       "      <td>6</td>\n",
       "    </tr>\n",
       "    <tr>\n",
       "      <th>5</th>\n",
       "      <td>700000.0</td>\n",
       "      <td>75000.0</td>\n",
       "      <td>Chevrolet</td>\n",
       "      <td>Optra</td>\n",
       "      <td>True</td>\n",
       "      <td>True</td>\n",
       "      <td>True</td>\n",
       "      <td>True</td>\n",
       "      <td>3</td>\n",
       "    </tr>\n",
       "    <tr>\n",
       "      <th>...</th>\n",
       "      <td>...</td>\n",
       "      <td>...</td>\n",
       "      <td>...</td>\n",
       "      <td>...</td>\n",
       "      <td>...</td>\n",
       "      <td>...</td>\n",
       "      <td>...</td>\n",
       "      <td>...</td>\n",
       "      <td>...</td>\n",
       "    </tr>\n",
       "    <tr>\n",
       "      <th>31734</th>\n",
       "      <td>560000.0</td>\n",
       "      <td>127000.0</td>\n",
       "      <td>Chery</td>\n",
       "      <td>Arrizo 5</td>\n",
       "      <td>True</td>\n",
       "      <td>True</td>\n",
       "      <td>True</td>\n",
       "      <td>True</td>\n",
       "      <td>4</td>\n",
       "    </tr>\n",
       "    <tr>\n",
       "      <th>31735</th>\n",
       "      <td>860000.0</td>\n",
       "      <td>7000.0</td>\n",
       "      <td>Nissan</td>\n",
       "      <td>Sunny</td>\n",
       "      <td>True</td>\n",
       "      <td>True</td>\n",
       "      <td>True</td>\n",
       "      <td>True</td>\n",
       "      <td>0</td>\n",
       "    </tr>\n",
       "    <tr>\n",
       "      <th>31736</th>\n",
       "      <td>1000000.0</td>\n",
       "      <td>250000.0</td>\n",
       "      <td>Brilliance</td>\n",
       "      <td>V5</td>\n",
       "      <td>True</td>\n",
       "      <td>True</td>\n",
       "      <td>True</td>\n",
       "      <td>True</td>\n",
       "      <td>11</td>\n",
       "    </tr>\n",
       "    <tr>\n",
       "      <th>31737</th>\n",
       "      <td>3650000.0</td>\n",
       "      <td>11000.0</td>\n",
       "      <td>BMW</td>\n",
       "      <td>320</td>\n",
       "      <td>True</td>\n",
       "      <td>True</td>\n",
       "      <td>True</td>\n",
       "      <td>True</td>\n",
       "      <td>1</td>\n",
       "    </tr>\n",
       "    <tr>\n",
       "      <th>31738</th>\n",
       "      <td>1375000.0</td>\n",
       "      <td>135000.0</td>\n",
       "      <td>Mercedes</td>\n",
       "      <td>C 180</td>\n",
       "      <td>True</td>\n",
       "      <td>True</td>\n",
       "      <td>True</td>\n",
       "      <td>True</td>\n",
       "      <td>15</td>\n",
       "    </tr>\n",
       "  </tbody>\n",
       "</table>\n",
       "<p>21980 rows × 9 columns</p>\n",
       "</div>"
      ],
      "text/plain": [
       "           Price   Mileage        Make             Model  \\\n",
       "0      2800000.0     300.0         Kia          Sportage   \n",
       "2      1200000.0  131000.0        Fiat              Tipo   \n",
       "3      2050000.0  125000.0     Hyundai  Tucson Turbo GDI   \n",
       "4      2050000.0   84000.0         BMW                X1   \n",
       "5       700000.0   75000.0   Chevrolet             Optra   \n",
       "...          ...       ...         ...               ...   \n",
       "31734   560000.0  127000.0       Chery          Arrizo 5   \n",
       "31735   860000.0    7000.0      Nissan             Sunny   \n",
       "31736  1000000.0  250000.0  Brilliance                V5   \n",
       "31737  3650000.0   11000.0         BMW               320   \n",
       "31738  1375000.0  135000.0    Mercedes             C 180   \n",
       "\n",
       "       Automatic Transmission  Air Conditioner  Power Steering  \\\n",
       "0                        True             True            True   \n",
       "2                        True             True            True   \n",
       "3                        True             True            True   \n",
       "4                        True             True            True   \n",
       "5                        True             True            True   \n",
       "...                       ...              ...             ...   \n",
       "31734                    True             True            True   \n",
       "31735                    True             True            True   \n",
       "31736                    True             True            True   \n",
       "31737                    True             True            True   \n",
       "31738                    True             True            True   \n",
       "\n",
       "       Remote Control  Years_of_usage  \n",
       "0                True               0  \n",
       "2                True               3  \n",
       "3                True               3  \n",
       "4                True               6  \n",
       "5                True               3  \n",
       "...               ...             ...  \n",
       "31734            True               4  \n",
       "31735            True               0  \n",
       "31736            True              11  \n",
       "31737            True               1  \n",
       "31738            True              15  \n",
       "\n",
       "[21980 rows x 9 columns]"
      ]
     },
     "execution_count": 44,
     "metadata": {},
     "output_type": "execute_result"
    }
   ],
   "source": [
    "data.drop(['Name', 'Color', 'Date Displayed', 'Made_year'], axis=1, inplace=True)\n",
    "data"
   ]
  },
  {
   "cell_type": "code",
   "execution_count": 45,
   "metadata": {},
   "outputs": [],
   "source": [
    "from sklearn.preprocessing import LabelEncoder"
   ]
  },
  {
   "cell_type": "code",
   "execution_count": 46,
   "metadata": {},
   "outputs": [],
   "source": [
    "label_encoder_columns = ['Make','Model']\n",
    "label_encoder = LabelEncoder()\n",
    "\n",
    "for col in label_encoder_columns:\n",
    "    data[col] = label_encoder.fit_transform(data[col])"
   ]
  },
  {
   "cell_type": "code",
   "execution_count": 47,
   "metadata": {},
   "outputs": [
    {
     "data": {
      "text/html": [
       "<div>\n",
       "<style scoped>\n",
       "    .dataframe tbody tr th:only-of-type {\n",
       "        vertical-align: middle;\n",
       "    }\n",
       "\n",
       "    .dataframe tbody tr th {\n",
       "        vertical-align: top;\n",
       "    }\n",
       "\n",
       "    .dataframe thead th {\n",
       "        text-align: right;\n",
       "    }\n",
       "</style>\n",
       "<table border=\"1\" class=\"dataframe\">\n",
       "  <thead>\n",
       "    <tr style=\"text-align: right;\">\n",
       "      <th></th>\n",
       "      <th>Price</th>\n",
       "      <th>Mileage</th>\n",
       "      <th>Make</th>\n",
       "      <th>Model</th>\n",
       "      <th>Automatic Transmission</th>\n",
       "      <th>Air Conditioner</th>\n",
       "      <th>Power Steering</th>\n",
       "      <th>Remote Control</th>\n",
       "      <th>Years_of_usage</th>\n",
       "    </tr>\n",
       "  </thead>\n",
       "  <tbody>\n",
       "    <tr>\n",
       "      <th>0</th>\n",
       "      <td>2800000.0</td>\n",
       "      <td>300.0</td>\n",
       "      <td>59</td>\n",
       "      <td>738</td>\n",
       "      <td>True</td>\n",
       "      <td>True</td>\n",
       "      <td>True</td>\n",
       "      <td>True</td>\n",
       "      <td>0</td>\n",
       "    </tr>\n",
       "    <tr>\n",
       "      <th>2</th>\n",
       "      <td>1200000.0</td>\n",
       "      <td>131000.0</td>\n",
       "      <td>32</td>\n",
       "      <td>789</td>\n",
       "      <td>True</td>\n",
       "      <td>True</td>\n",
       "      <td>True</td>\n",
       "      <td>True</td>\n",
       "      <td>3</td>\n",
       "    </tr>\n",
       "    <tr>\n",
       "      <th>3</th>\n",
       "      <td>2050000.0</td>\n",
       "      <td>125000.0</td>\n",
       "      <td>47</td>\n",
       "      <td>805</td>\n",
       "      <td>True</td>\n",
       "      <td>True</td>\n",
       "      <td>True</td>\n",
       "      <td>True</td>\n",
       "      <td>3</td>\n",
       "    </tr>\n",
       "    <tr>\n",
       "      <th>4</th>\n",
       "      <td>2050000.0</td>\n",
       "      <td>84000.0</td>\n",
       "      <td>5</td>\n",
       "      <td>842</td>\n",
       "      <td>True</td>\n",
       "      <td>True</td>\n",
       "      <td>True</td>\n",
       "      <td>True</td>\n",
       "      <td>6</td>\n",
       "    </tr>\n",
       "    <tr>\n",
       "      <th>5</th>\n",
       "      <td>700000.0</td>\n",
       "      <td>75000.0</td>\n",
       "      <td>18</td>\n",
       "      <td>618</td>\n",
       "      <td>True</td>\n",
       "      <td>True</td>\n",
       "      <td>True</td>\n",
       "      <td>True</td>\n",
       "      <td>3</td>\n",
       "    </tr>\n",
       "  </tbody>\n",
       "</table>\n",
       "</div>"
      ],
      "text/plain": [
       "       Price   Mileage  Make  Model  Automatic Transmission  Air Conditioner  \\\n",
       "0  2800000.0     300.0    59    738                    True             True   \n",
       "2  1200000.0  131000.0    32    789                    True             True   \n",
       "3  2050000.0  125000.0    47    805                    True             True   \n",
       "4  2050000.0   84000.0     5    842                    True             True   \n",
       "5   700000.0   75000.0    18    618                    True             True   \n",
       "\n",
       "   Power Steering  Remote Control  Years_of_usage  \n",
       "0            True            True               0  \n",
       "2            True            True               3  \n",
       "3            True            True               3  \n",
       "4            True            True               6  \n",
       "5            True            True               3  "
      ]
     },
     "execution_count": 47,
     "metadata": {},
     "output_type": "execute_result"
    }
   ],
   "source": [
    "data.head()"
   ]
  },
  {
   "cell_type": "code",
   "execution_count": 48,
   "metadata": {},
   "outputs": [
    {
     "data": {
      "image/png": "[encoded data removed]",
      "text/plain": [
       "<Figure size 1500x1500 with 2 Axes>"
      ]
     },
     "metadata": {},
     "output_type": "display_data"
    }
   ],
   "source": [
    "plt.figure(figsize = (15, 15))\n",
    "sns.heatmap(data.corr(), annot = True)\n",
    "plt.show()"
   ]
  },
  {
   "cell_type": "markdown",
   "metadata": {},
   "source": [
    "* ## Scalling numeric"
   ]
  },
  {
   "cell_type": "code",
   "execution_count": 49,
   "metadata": {},
   "outputs": [
    {
     "data": {
      "image/png": "[encoded data removed]",
      "text/plain": [
       "<Figure size 640x480 with 1 Axes>"
      ]
     },
     "metadata": {},
     "output_type": "display_data"
    },
    {
     "data": {
      "image/png": "[encoded data removed]",
      "text/plain": [
       "<Figure size 640x480 with 1 Axes>"
      ]
     },
     "metadata": {},
     "output_type": "display_data"
    }
   ],
   "source": [
    "for col in [\"Mileage\",\"Price\"]:\n",
    "    sns.histplot(data=data, x = col, kde=True)\n",
    "    plt.show()\n"
   ]
  },
  {
   "cell_type": "code",
   "execution_count": 50,
   "metadata": {},
   "outputs": [
    {
     "data": {
      "image/png": "[encoded data removed]",
      "text/plain": [
       "<Figure size 640x480 with 1 Axes>"
      ]
     },
     "metadata": {},
     "output_type": "display_data"
    },
    {
     "data": {
      "image/png": "[encoded data removed]",
      "text/plain": [
       "<Figure size 640x480 with 1 Axes>"
      ]
     },
     "metadata": {},
     "output_type": "display_data"
    }
   ],
   "source": [
    "for col in [\"Mileage\", \"Price\"]:\n",
    "    sns.histplot(data=np.log1p(data[col]), kde=True)\n",
    "    plt.title(f\"Log-transformed Distribution of {col}\")\n",
    "    plt.xlabel(col)\n",
    "    plt.show()"
   ]
  },
  {
   "cell_type": "code",
   "execution_count": 51,
   "metadata": {},
   "outputs": [],
   "source": [
    "for col in [\"Mileage\", \"Price\"]:\n",
    "    data[col] = np.log1p(data[col])"
   ]
  },
  {
   "cell_type": "code",
   "execution_count": 52,
   "metadata": {},
   "outputs": [
    {
     "data": {
      "text/html": [
       "<div>\n",
       "<style scoped>\n",
       "    .dataframe tbody tr th:only-of-type {\n",
       "        vertical-align: middle;\n",
       "    }\n",
       "\n",
       "    .dataframe tbody tr th {\n",
       "        vertical-align: top;\n",
       "    }\n",
       "\n",
       "    .dataframe thead th {\n",
       "        text-align: right;\n",
       "    }\n",
       "</style>\n",
       "<table border=\"1\" class=\"dataframe\">\n",
       "  <thead>\n",
       "    <tr style=\"text-align: right;\">\n",
       "      <th></th>\n",
       "      <th>Price</th>\n",
       "      <th>Mileage</th>\n",
       "      <th>Make</th>\n",
       "      <th>Model</th>\n",
       "      <th>Automatic Transmission</th>\n",
       "      <th>Air Conditioner</th>\n",
       "      <th>Power Steering</th>\n",
       "      <th>Remote Control</th>\n",
       "      <th>Years_of_usage</th>\n",
       "    </tr>\n",
       "  </thead>\n",
       "  <tbody>\n",
       "    <tr>\n",
       "      <th>0</th>\n",
       "      <td>14.845130</td>\n",
       "      <td>5.707110</td>\n",
       "      <td>59</td>\n",
       "      <td>738</td>\n",
       "      <td>True</td>\n",
       "      <td>True</td>\n",
       "      <td>True</td>\n",
       "      <td>True</td>\n",
       "      <td>0</td>\n",
       "    </tr>\n",
       "    <tr>\n",
       "      <th>2</th>\n",
       "      <td>13.997833</td>\n",
       "      <td>11.782960</td>\n",
       "      <td>32</td>\n",
       "      <td>789</td>\n",
       "      <td>True</td>\n",
       "      <td>True</td>\n",
       "      <td>True</td>\n",
       "      <td>True</td>\n",
       "      <td>3</td>\n",
       "    </tr>\n",
       "    <tr>\n",
       "      <th>3</th>\n",
       "      <td>14.533351</td>\n",
       "      <td>11.736077</td>\n",
       "      <td>47</td>\n",
       "      <td>805</td>\n",
       "      <td>True</td>\n",
       "      <td>True</td>\n",
       "      <td>True</td>\n",
       "      <td>True</td>\n",
       "      <td>3</td>\n",
       "    </tr>\n",
       "    <tr>\n",
       "      <th>4</th>\n",
       "      <td>14.533351</td>\n",
       "      <td>11.338584</td>\n",
       "      <td>5</td>\n",
       "      <td>842</td>\n",
       "      <td>True</td>\n",
       "      <td>True</td>\n",
       "      <td>True</td>\n",
       "      <td>True</td>\n",
       "      <td>6</td>\n",
       "    </tr>\n",
       "    <tr>\n",
       "      <th>5</th>\n",
       "      <td>13.458837</td>\n",
       "      <td>11.225257</td>\n",
       "      <td>18</td>\n",
       "      <td>618</td>\n",
       "      <td>True</td>\n",
       "      <td>True</td>\n",
       "      <td>True</td>\n",
       "      <td>True</td>\n",
       "      <td>3</td>\n",
       "    </tr>\n",
       "    <tr>\n",
       "      <th>...</th>\n",
       "      <td>...</td>\n",
       "      <td>...</td>\n",
       "      <td>...</td>\n",
       "      <td>...</td>\n",
       "      <td>...</td>\n",
       "      <td>...</td>\n",
       "      <td>...</td>\n",
       "      <td>...</td>\n",
       "      <td>...</td>\n",
       "    </tr>\n",
       "    <tr>\n",
       "      <th>31734</th>\n",
       "      <td>13.235694</td>\n",
       "      <td>11.751950</td>\n",
       "      <td>17</td>\n",
       "      <td>158</td>\n",
       "      <td>True</td>\n",
       "      <td>True</td>\n",
       "      <td>True</td>\n",
       "      <td>True</td>\n",
       "      <td>4</td>\n",
       "    </tr>\n",
       "    <tr>\n",
       "      <th>31735</th>\n",
       "      <td>13.664689</td>\n",
       "      <td>8.853808</td>\n",
       "      <td>76</td>\n",
       "      <td>743</td>\n",
       "      <td>True</td>\n",
       "      <td>True</td>\n",
       "      <td>True</td>\n",
       "      <td>True</td>\n",
       "      <td>0</td>\n",
       "    </tr>\n",
       "    <tr>\n",
       "      <th>31736</th>\n",
       "      <td>13.815512</td>\n",
       "      <td>12.429220</td>\n",
       "      <td>9</td>\n",
       "      <td>812</td>\n",
       "      <td>True</td>\n",
       "      <td>True</td>\n",
       "      <td>True</td>\n",
       "      <td>True</td>\n",
       "      <td>11</td>\n",
       "    </tr>\n",
       "    <tr>\n",
       "      <th>31737</th>\n",
       "      <td>15.110238</td>\n",
       "      <td>9.305741</td>\n",
       "      <td>5</td>\n",
       "      <td>65</td>\n",
       "      <td>True</td>\n",
       "      <td>True</td>\n",
       "      <td>True</td>\n",
       "      <td>True</td>\n",
       "      <td>1</td>\n",
       "    </tr>\n",
       "    <tr>\n",
       "      <th>31738</th>\n",
       "      <td>14.133965</td>\n",
       "      <td>11.813037</td>\n",
       "      <td>73</td>\n",
       "      <td>192</td>\n",
       "      <td>True</td>\n",
       "      <td>True</td>\n",
       "      <td>True</td>\n",
       "      <td>True</td>\n",
       "      <td>15</td>\n",
       "    </tr>\n",
       "  </tbody>\n",
       "</table>\n",
       "<p>21980 rows × 9 columns</p>\n",
       "</div>"
      ],
      "text/plain": [
       "           Price    Mileage  Make  Model  Automatic Transmission  \\\n",
       "0      14.845130   5.707110    59    738                    True   \n",
       "2      13.997833  11.782960    32    789                    True   \n",
       "3      14.533351  11.736077    47    805                    True   \n",
       "4      14.533351  11.338584     5    842                    True   \n",
       "5      13.458837  11.225257    18    618                    True   \n",
       "...          ...        ...   ...    ...                     ...   \n",
       "31734  13.235694  11.751950    17    158                    True   \n",
       "31735  13.664689   8.853808    76    743                    True   \n",
       "31736  13.815512  12.429220     9    812                    True   \n",
       "31737  15.110238   9.305741     5     65                    True   \n",
       "31738  14.133965  11.813037    73    192                    True   \n",
       "\n",
       "       Air Conditioner  Power Steering  Remote Control  Years_of_usage  \n",
       "0                 True            True            True               0  \n",
       "2                 True            True            True               3  \n",
       "3                 True            True            True               3  \n",
       "4                 True            True            True               6  \n",
       "5                 True            True            True               3  \n",
       "...                ...             ...             ...             ...  \n",
       "31734             True            True            True               4  \n",
       "31735             True            True            True               0  \n",
       "31736             True            True            True              11  \n",
       "31737             True            True            True               1  \n",
       "31738             True            True            True              15  \n",
       "\n",
       "[21980 rows x 9 columns]"
      ]
     },
     "execution_count": 52,
     "metadata": {},
     "output_type": "execute_result"
    }
   ],
   "source": [
    "data"
   ]
  },
  {
   "cell_type": "code",
   "execution_count": 53,
   "metadata": {},
   "outputs": [],
   "source": [
    "from sklearn.preprocessing import StandardScaler"
   ]
  },
  {
   "cell_type": "code",
   "execution_count": 54,
   "metadata": {},
   "outputs": [],
   "source": [
    "scaler = StandardScaler()\n",
    "num_cols = ['Price' ,'Mileage']\n",
    "\n",
    "data[num_cols] = scaler.fit_transform(data[num_cols])"
   ]
  },
  {
   "cell_type": "code",
   "execution_count": 55,
   "metadata": {},
   "outputs": [
    {
     "data": {
      "text/html": [
       "<div>\n",
       "<style scoped>\n",
       "    .dataframe tbody tr th:only-of-type {\n",
       "        vertical-align: middle;\n",
       "    }\n",
       "\n",
       "    .dataframe tbody tr th {\n",
       "        vertical-align: top;\n",
       "    }\n",
       "\n",
       "    .dataframe thead th {\n",
       "        text-align: right;\n",
       "    }\n",
       "</style>\n",
       "<table border=\"1\" class=\"dataframe\">\n",
       "  <thead>\n",
       "    <tr style=\"text-align: right;\">\n",
       "      <th></th>\n",
       "      <th>Price</th>\n",
       "      <th>Mileage</th>\n",
       "      <th>Make</th>\n",
       "      <th>Model</th>\n",
       "      <th>Automatic Transmission</th>\n",
       "      <th>Air Conditioner</th>\n",
       "      <th>Power Steering</th>\n",
       "      <th>Remote Control</th>\n",
       "      <th>Years_of_usage</th>\n",
       "    </tr>\n",
       "  </thead>\n",
       "  <tbody>\n",
       "    <tr>\n",
       "      <th>0</th>\n",
       "      <td>1.813673</td>\n",
       "      <td>-3.630182</td>\n",
       "      <td>59</td>\n",
       "      <td>738</td>\n",
       "      <td>True</td>\n",
       "      <td>True</td>\n",
       "      <td>True</td>\n",
       "      <td>True</td>\n",
       "      <td>0</td>\n",
       "    </tr>\n",
       "    <tr>\n",
       "      <th>2</th>\n",
       "      <td>0.825787</td>\n",
       "      <td>0.248208</td>\n",
       "      <td>32</td>\n",
       "      <td>789</td>\n",
       "      <td>True</td>\n",
       "      <td>True</td>\n",
       "      <td>True</td>\n",
       "      <td>True</td>\n",
       "      <td>3</td>\n",
       "    </tr>\n",
       "    <tr>\n",
       "      <th>3</th>\n",
       "      <td>1.450161</td>\n",
       "      <td>0.218281</td>\n",
       "      <td>47</td>\n",
       "      <td>805</td>\n",
       "      <td>True</td>\n",
       "      <td>True</td>\n",
       "      <td>True</td>\n",
       "      <td>True</td>\n",
       "      <td>3</td>\n",
       "    </tr>\n",
       "    <tr>\n",
       "      <th>4</th>\n",
       "      <td>1.450161</td>\n",
       "      <td>-0.035451</td>\n",
       "      <td>5</td>\n",
       "      <td>842</td>\n",
       "      <td>True</td>\n",
       "      <td>True</td>\n",
       "      <td>True</td>\n",
       "      <td>True</td>\n",
       "      <td>6</td>\n",
       "    </tr>\n",
       "    <tr>\n",
       "      <th>5</th>\n",
       "      <td>0.197359</td>\n",
       "      <td>-0.107791</td>\n",
       "      <td>18</td>\n",
       "      <td>618</td>\n",
       "      <td>True</td>\n",
       "      <td>True</td>\n",
       "      <td>True</td>\n",
       "      <td>True</td>\n",
       "      <td>3</td>\n",
       "    </tr>\n",
       "    <tr>\n",
       "      <th>...</th>\n",
       "      <td>...</td>\n",
       "      <td>...</td>\n",
       "      <td>...</td>\n",
       "      <td>...</td>\n",
       "      <td>...</td>\n",
       "      <td>...</td>\n",
       "      <td>...</td>\n",
       "      <td>...</td>\n",
       "      <td>...</td>\n",
       "    </tr>\n",
       "    <tr>\n",
       "      <th>31734</th>\n",
       "      <td>-0.062810</td>\n",
       "      <td>0.228413</td>\n",
       "      <td>17</td>\n",
       "      <td>158</td>\n",
       "      <td>True</td>\n",
       "      <td>True</td>\n",
       "      <td>True</td>\n",
       "      <td>True</td>\n",
       "      <td>4</td>\n",
       "    </tr>\n",
       "    <tr>\n",
       "      <th>31735</th>\n",
       "      <td>0.437366</td>\n",
       "      <td>-1.621554</td>\n",
       "      <td>76</td>\n",
       "      <td>743</td>\n",
       "      <td>True</td>\n",
       "      <td>True</td>\n",
       "      <td>True</td>\n",
       "      <td>True</td>\n",
       "      <td>0</td>\n",
       "    </tr>\n",
       "    <tr>\n",
       "      <th>31736</th>\n",
       "      <td>0.613214</td>\n",
       "      <td>0.660734</td>\n",
       "      <td>9</td>\n",
       "      <td>812</td>\n",
       "      <td>True</td>\n",
       "      <td>True</td>\n",
       "      <td>True</td>\n",
       "      <td>True</td>\n",
       "      <td>11</td>\n",
       "    </tr>\n",
       "    <tr>\n",
       "      <th>31737</th>\n",
       "      <td>2.122769</td>\n",
       "      <td>-1.333072</td>\n",
       "      <td>5</td>\n",
       "      <td>65</td>\n",
       "      <td>True</td>\n",
       "      <td>True</td>\n",
       "      <td>True</td>\n",
       "      <td>True</td>\n",
       "      <td>1</td>\n",
       "    </tr>\n",
       "    <tr>\n",
       "      <th>31738</th>\n",
       "      <td>0.984507</td>\n",
       "      <td>0.267407</td>\n",
       "      <td>73</td>\n",
       "      <td>192</td>\n",
       "      <td>True</td>\n",
       "      <td>True</td>\n",
       "      <td>True</td>\n",
       "      <td>True</td>\n",
       "      <td>15</td>\n",
       "    </tr>\n",
       "  </tbody>\n",
       "</table>\n",
       "<p>21980 rows × 9 columns</p>\n",
       "</div>"
      ],
      "text/plain": [
       "          Price   Mileage  Make  Model  Automatic Transmission  \\\n",
       "0      1.813673 -3.630182    59    738                    True   \n",
       "2      0.825787  0.248208    32    789                    True   \n",
       "3      1.450161  0.218281    47    805                    True   \n",
       "4      1.450161 -0.035451     5    842                    True   \n",
       "5      0.197359 -0.107791    18    618                    True   \n",
       "...         ...       ...   ...    ...                     ...   \n",
       "31734 -0.062810  0.228413    17    158                    True   \n",
       "31735  0.437366 -1.621554    76    743                    True   \n",
       "31736  0.613214  0.660734     9    812                    True   \n",
       "31737  2.122769 -1.333072     5     65                    True   \n",
       "31738  0.984507  0.267407    73    192                    True   \n",
       "\n",
       "       Air Conditioner  Power Steering  Remote Control  Years_of_usage  \n",
       "0                 True            True            True               0  \n",
       "2                 True            True            True               3  \n",
       "3                 True            True            True               3  \n",
       "4                 True            True            True               6  \n",
       "5                 True            True            True               3  \n",
       "...                ...             ...             ...             ...  \n",
       "31734             True            True            True               4  \n",
       "31735             True            True            True               0  \n",
       "31736             True            True            True              11  \n",
       "31737             True            True            True               1  \n",
       "31738             True            True            True              15  \n",
       "\n",
       "[21980 rows x 9 columns]"
      ]
     },
     "execution_count": 55,
     "metadata": {},
     "output_type": "execute_result"
    }
   ],
   "source": [
    "data"
   ]
  },
  {
   "cell_type": "code",
   "execution_count": 56,
   "metadata": {},
   "outputs": [
    {
     "data": {
      "image/png": "[encoded data removed]",
      "text/plain": [
       "<Figure size 640x480 with 1 Axes>"
      ]
     },
     "metadata": {},
     "output_type": "display_data"
    },
    {
     "data": {
      "image/png": "[encoded data removed]",
      "text/plain": [
       "<Figure size 640x480 with 1 Axes>"
      ]
     },
     "metadata": {},
     "output_type": "display_data"
    }
   ],
   "source": [
    "for col in [\"Mileage\",\"Price\"]:\n",
    "    sns.histplot(data=data, x = col, kde=True)\n",
    "    plt.show()"
   ]
  },
  {
   "cell_type": "code",
   "execution_count": 57,
   "metadata": {},
   "outputs": [
    {
     "data": {
      "text/html": [
       "<div>\n",
       "<style scoped>\n",
       "    .dataframe tbody tr th:only-of-type {\n",
       "        vertical-align: middle;\n",
       "    }\n",
       "\n",
       "    .dataframe tbody tr th {\n",
       "        vertical-align: top;\n",
       "    }\n",
       "\n",
       "    .dataframe thead th {\n",
       "        text-align: right;\n",
       "    }\n",
       "</style>\n",
       "<table border=\"1\" class=\"dataframe\">\n",
       "  <thead>\n",
       "    <tr style=\"text-align: right;\">\n",
       "      <th></th>\n",
       "      <th>Price</th>\n",
       "      <th>Mileage</th>\n",
       "      <th>Make</th>\n",
       "      <th>Model</th>\n",
       "      <th>Automatic Transmission</th>\n",
       "      <th>Air Conditioner</th>\n",
       "      <th>Power Steering</th>\n",
       "      <th>Remote Control</th>\n",
       "      <th>Years_of_usage</th>\n",
       "    </tr>\n",
       "  </thead>\n",
       "  <tbody>\n",
       "    <tr>\n",
       "      <th>0</th>\n",
       "      <td>1.813673</td>\n",
       "      <td>-3.630182</td>\n",
       "      <td>59</td>\n",
       "      <td>738</td>\n",
       "      <td>True</td>\n",
       "      <td>True</td>\n",
       "      <td>True</td>\n",
       "      <td>True</td>\n",
       "      <td>0</td>\n",
       "    </tr>\n",
       "    <tr>\n",
       "      <th>2</th>\n",
       "      <td>0.825787</td>\n",
       "      <td>0.248208</td>\n",
       "      <td>32</td>\n",
       "      <td>789</td>\n",
       "      <td>True</td>\n",
       "      <td>True</td>\n",
       "      <td>True</td>\n",
       "      <td>True</td>\n",
       "      <td>3</td>\n",
       "    </tr>\n",
       "    <tr>\n",
       "      <th>3</th>\n",
       "      <td>1.450161</td>\n",
       "      <td>0.218281</td>\n",
       "      <td>47</td>\n",
       "      <td>805</td>\n",
       "      <td>True</td>\n",
       "      <td>True</td>\n",
       "      <td>True</td>\n",
       "      <td>True</td>\n",
       "      <td>3</td>\n",
       "    </tr>\n",
       "    <tr>\n",
       "      <th>4</th>\n",
       "      <td>1.450161</td>\n",
       "      <td>-0.035451</td>\n",
       "      <td>5</td>\n",
       "      <td>842</td>\n",
       "      <td>True</td>\n",
       "      <td>True</td>\n",
       "      <td>True</td>\n",
       "      <td>True</td>\n",
       "      <td>6</td>\n",
       "    </tr>\n",
       "    <tr>\n",
       "      <th>5</th>\n",
       "      <td>0.197359</td>\n",
       "      <td>-0.107791</td>\n",
       "      <td>18</td>\n",
       "      <td>618</td>\n",
       "      <td>True</td>\n",
       "      <td>True</td>\n",
       "      <td>True</td>\n",
       "      <td>True</td>\n",
       "      <td>3</td>\n",
       "    </tr>\n",
       "    <tr>\n",
       "      <th>...</th>\n",
       "      <td>...</td>\n",
       "      <td>...</td>\n",
       "      <td>...</td>\n",
       "      <td>...</td>\n",
       "      <td>...</td>\n",
       "      <td>...</td>\n",
       "      <td>...</td>\n",
       "      <td>...</td>\n",
       "      <td>...</td>\n",
       "    </tr>\n",
       "    <tr>\n",
       "      <th>31734</th>\n",
       "      <td>-0.062810</td>\n",
       "      <td>0.228413</td>\n",
       "      <td>17</td>\n",
       "      <td>158</td>\n",
       "      <td>True</td>\n",
       "      <td>True</td>\n",
       "      <td>True</td>\n",
       "      <td>True</td>\n",
       "      <td>4</td>\n",
       "    </tr>\n",
       "    <tr>\n",
       "      <th>31735</th>\n",
       "      <td>0.437366</td>\n",
       "      <td>-1.621554</td>\n",
       "      <td>76</td>\n",
       "      <td>743</td>\n",
       "      <td>True</td>\n",
       "      <td>True</td>\n",
       "      <td>True</td>\n",
       "      <td>True</td>\n",
       "      <td>0</td>\n",
       "    </tr>\n",
       "    <tr>\n",
       "      <th>31736</th>\n",
       "      <td>0.613214</td>\n",
       "      <td>0.660734</td>\n",
       "      <td>9</td>\n",
       "      <td>812</td>\n",
       "      <td>True</td>\n",
       "      <td>True</td>\n",
       "      <td>True</td>\n",
       "      <td>True</td>\n",
       "      <td>11</td>\n",
       "    </tr>\n",
       "    <tr>\n",
       "      <th>31737</th>\n",
       "      <td>2.122769</td>\n",
       "      <td>-1.333072</td>\n",
       "      <td>5</td>\n",
       "      <td>65</td>\n",
       "      <td>True</td>\n",
       "      <td>True</td>\n",
       "      <td>True</td>\n",
       "      <td>True</td>\n",
       "      <td>1</td>\n",
       "    </tr>\n",
       "    <tr>\n",
       "      <th>31738</th>\n",
       "      <td>0.984507</td>\n",
       "      <td>0.267407</td>\n",
       "      <td>73</td>\n",
       "      <td>192</td>\n",
       "      <td>True</td>\n",
       "      <td>True</td>\n",
       "      <td>True</td>\n",
       "      <td>True</td>\n",
       "      <td>15</td>\n",
       "    </tr>\n",
       "  </tbody>\n",
       "</table>\n",
       "<p>21980 rows × 9 columns</p>\n",
       "</div>"
      ],
      "text/plain": [
       "          Price   Mileage  Make  Model  Automatic Transmission  \\\n",
       "0      1.813673 -3.630182    59    738                    True   \n",
       "2      0.825787  0.248208    32    789                    True   \n",
       "3      1.450161  0.218281    47    805                    True   \n",
       "4      1.450161 -0.035451     5    842                    True   \n",
       "5      0.197359 -0.107791    18    618                    True   \n",
       "...         ...       ...   ...    ...                     ...   \n",
       "31734 -0.062810  0.228413    17    158                    True   \n",
       "31735  0.437366 -1.621554    76    743                    True   \n",
       "31736  0.613214  0.660734     9    812                    True   \n",
       "31737  2.122769 -1.333072     5     65                    True   \n",
       "31738  0.984507  0.267407    73    192                    True   \n",
       "\n",
       "       Air Conditioner  Power Steering  Remote Control  Years_of_usage  \n",
       "0                 True            True            True               0  \n",
       "2                 True            True            True               3  \n",
       "3                 True            True            True               3  \n",
       "4                 True            True            True               6  \n",
       "5                 True            True            True               3  \n",
       "...                ...             ...             ...             ...  \n",
       "31734             True            True            True               4  \n",
       "31735             True            True            True               0  \n",
       "31736             True            True            True              11  \n",
       "31737             True            True            True               1  \n",
       "31738             True            True            True              15  \n",
       "\n",
       "[21980 rows x 9 columns]"
      ]
     },
     "execution_count": 57,
     "metadata": {},
     "output_type": "execute_result"
    }
   ],
   "source": [
    "data"
   ]
  },
  {
   "cell_type": "code",
   "execution_count": 58,
   "metadata": {},
   "outputs": [],
   "source": [
    "data.to_csv(\"../Data/processed_data.csv\", index = False)"
   ]
  },
  {
   "cell_type": "code",
   "execution_count": null,
   "metadata": {},
   "outputs": [],
   "source": []
  }
 ],
 "metadata": {
  "kernelspec": {
   "display_name": "Python 3",
   "language": "python",
   "name": "python3"
  },
  "language_info": {
   "codemirror_mode": {
    "name": "ipython",
    "version": 3
   },
   "file_extension": ".py",
   "mimetype": "text/x-python",
   "name": "python",
   "nbconvert_exporter": "python",
   "pygments_lexer": "ipython3",
   "version": "3.12.7"
  }
 },
 "nbformat": 4,
 "nbformat_minor": 2
}
